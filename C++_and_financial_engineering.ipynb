{
  "nbformat": 4,
  "nbformat_minor": 0,
  "metadata": {
    "colab": {
      "provenance": [],
      "toc_visible": true,
      "authorship_tag": "ABX9TyOUno065sDFlR0ti/Wnd+E9",
      "include_colab_link": true
    },
    "kernelspec": {
      "name": "python3",
      "display_name": "Python 3"
    },
    "language_info": {
      "name": "python"
    },
    "gpuClass": "standard"
  },
  "cells": [
    {
      "cell_type": "markdown",
      "metadata": {
        "id": "view-in-github",
        "colab_type": "text"
      },
      "source": [
        "<a href=\"https://colab.research.google.com/github/YLiu95/Quantitative_Finance/blob/main/C%2B%2B_and_financial_engineering.ipynb\" target=\"_parent\"><img src=\"https://colab.research.google.com/assets/colab-badge.svg\" alt=\"Open In Colab\"/></a>"
      ]
    },
    {
      "cell_type": "markdown",
      "source": [
        "# Apply C++ to Financial Engineering\n",
        "\n",
        "Overview:\n",
        "\n",
        "1. Conduct research on key concepts of C++ and implement them through coding. \n",
        "\n",
        "2. Apply C++ to price financial instruments such as options and swaps.\n",
        "\n",
        "**C++ key concepts:**\n",
        "\n",
        "✓ data encapsulation\n",
        "\n",
        "✓ class inheritance\n",
        "\n",
        "✓ polymorphism\n",
        "\n",
        "✓ operator overloading\n",
        "\n",
        "✓ memory management\n",
        "\n",
        "✓ namespaces\n",
        "\n",
        "✓ exception handling"
      ],
      "metadata": {
        "id": "2ZrSW7hp7Cij"
      }
    },
    {
      "cell_type": "markdown",
      "source": [
        "**option pricing with C++:**\n",
        "\n",
        "✓ Binomial tree method\n",
        "\n",
        "✓ Black-Scholes model\n",
        "\n",
        "✓ Monte Carlo simulation method\n",
        "\n",
        "**swap pricing with C++:**\n",
        "\n",
        "✓ vanilla interest rate swap\n",
        "\n",
        "✓ currency swap\n",
        "\n",
        "✓ credit default swap"
      ],
      "metadata": {
        "id": "SMx43Aa-If46"
      }
    },
    {
      "cell_type": "markdown",
      "source": [
        "table of contents:"
      ],
      "metadata": {
        "id": "kWt5h4NSqylA"
      }
    },
    {
      "cell_type": "markdown",
      "source": [
        ">[Apply C++ to Financial Engineering](#scrollTo=2ZrSW7hp7Cij)\n",
        "\n",
        ">[key concepts of C++](#scrollTo=UEkqAT206EVe)\n",
        "\n",
        ">>[data encapsulation](#scrollTo=vmLYMs_EEo1l)\n",
        "\n",
        ">>[class inheritance](#scrollTo=U5NPsi31Qn4C)\n",
        "\n",
        ">>[polymorphism](#scrollTo=zWnJtfo7YnWn)\n",
        "\n",
        ">>[operator overloading](#scrollTo=UKSWDpGqfQ5m)\n",
        "\n",
        ">>[memory memagement](#scrollTo=8Yz9U9AElNj-)\n",
        "\n",
        ">>[namespaces](#scrollTo=iYX2we3vlRrB)\n",
        "\n",
        ">>[exception handling](#scrollTo=_3ZBYWkwlUgR)\n",
        "\n",
        ">[C++ and financial engineering](#scrollTo=hZ-HSBooIia-)\n",
        "\n",
        ">>[option pricing](#scrollTo=5aHYtT97663E)\n",
        "\n",
        ">>>[the binomial tree method](#scrollTo=Aumb3wCXomf4)\n",
        "\n",
        ">>>[Black-Scholes model](#scrollTo=bTDrxNa2CUiq)\n",
        "\n",
        ">>>[Monte Carlo simulation method](#scrollTo=9cC2cH6U6yB4)\n",
        "\n",
        ">>[swap pricing](#scrollTo=hpOdNNiL9Ml1)\n",
        "\n",
        ">>>[vanilla interest rate swap](#scrollTo=MQzi_kPEMMFe)\n",
        "\n",
        ">>>[currency swap](#scrollTo=JsL6_1kMPoJL)\n",
        "\n",
        ">>>[credit default swap](#scrollTo=DVquAtn1RSbQ)\n",
        "\n",
        ">[end of document](#scrollTo=a1sVHYnOIe75)\n",
        "\n",
        ">[prepare C++ for colab](#scrollTo=xDHHwOuMfKg7)\n",
        "\n"
      ],
      "metadata": {
        "colab_type": "toc",
        "id": "rT7OF6-N7J-5"
      }
    },
    {
      "cell_type": "markdown",
      "source": [
        "# key concepts of C++"
      ],
      "metadata": {
        "id": "UEkqAT206EVe"
      }
    },
    {
      "cell_type": "markdown",
      "source": [
        "## data encapsulation"
      ],
      "metadata": {
        "id": "vmLYMs_EEo1l"
      }
    },
    {
      "cell_type": "markdown",
      "source": [
        "**what is data encapsulation?**\n",
        "\n",
        "\n",
        "data encapsulation is a programming technique that involves enclosing data within a class and controlling access to it through member functions. This can help to protect the data from accidental or malicious modification, and can make it easier to manage and maintain the code."
      ],
      "metadata": {
        "id": "MBvhhHEyI8JQ"
      }
    },
    {
      "cell_type": "markdown",
      "source": [
        "implement data encapsulation in C++:\n",
        "\n"
      ],
      "metadata": {
        "id": "3OrtW1e4I_QV"
      }
    },
    {
      "cell_type": "code",
      "source": [
        "%%time\n",
        "%%cu\n",
        "#include <iostream>\n",
        "\n",
        "class Point {\n",
        "private:\n",
        "  int x;\n",
        "  int y;\n",
        "\n",
        "public:\n",
        "  void set_x(int value) {\n",
        "    x = value;\n",
        "  }\n",
        "\n",
        "  void set_y(int value) {\n",
        "    y = value;\n",
        "  }\n",
        "\n",
        "  int get_x() const {\n",
        "    return x;\n",
        "  }\n",
        "\n",
        "  int get_y() const {\n",
        "    return y;\n",
        "  }\n",
        "};\n",
        "\n",
        "int main() {\n",
        "  Point p;\n",
        "  p.set_x(10);\n",
        "  p.set_y(20);\n",
        "  std::cout << \"x: \" << p.get_x() << \", y: \" << p.get_y() << std::endl;\n",
        "  return 0;\n",
        "}\n"
      ],
      "metadata": {
        "colab": {
          "base_uri": "https://localhost:8080/"
        },
        "id": "-eJ7clakEseM",
        "outputId": "750c3294-953a-4404-8cf5-9693e155141a"
      },
      "execution_count": null,
      "outputs": [
        {
          "output_type": "stream",
          "name": "stdout",
          "text": [
            "x: 10, y: 20\n",
            "\n",
            "CPU times: user 9.42 ms, sys: 6.86 ms, total: 16.3 ms\n",
            "Wall time: 1.46 s\n"
          ]
        }
      ]
    },
    {
      "cell_type": "markdown",
      "source": [
        "In this implementation, the `Point` class has two private attributes called `x` and `y`, which represent the coordinates of a point in two-dimensional space. The class also has four member functions: `set_x` and `set_y`, which allow the caller to set the values of `x` and `y`, and `get_x` and `get_y`, which allow the caller to retrieve the values of `x` and `y`.\n",
        "\n",
        "The private attributes are only accessible within the class, so the only way to read or modify their values is through the member functions. This means that the data is \"encapsulated\" within the class, and can only be accessed through the interface provided by the member functions."
      ],
      "metadata": {
        "id": "gaChFlWvJC9A"
      }
    },
    {
      "cell_type": "markdown",
      "source": [
        "## class inheritance"
      ],
      "metadata": {
        "id": "U5NPsi31Qn4C"
      }
    },
    {
      "cell_type": "markdown",
      "source": [
        "**what is class inheritance?**\n",
        "\n",
        "class inheritance is a programming technique that allows you to create a new class that is derived from an existing class, inheriting its attributes and behaviors. This allows you to reuse and extend code from the base class in the derived class."
      ],
      "metadata": {
        "id": "TLhcnTNUXW2s"
      }
    },
    {
      "cell_type": "markdown",
      "source": [
        "implement class inheritance in C++:"
      ],
      "metadata": {
        "id": "FB_uQIczytqw"
      }
    },
    {
      "cell_type": "code",
      "source": [
        "%%time\n",
        "%%cu\n",
        "#include <iostream>\n",
        "\n",
        "class Shape {\n",
        "protected:\n",
        "  int sides;\n",
        "\n",
        "public:\n",
        "  Shape(int sides) : sides(sides) {}\n",
        "\n",
        "  virtual int get_area() const = 0;\n",
        "  int get_sides() const { return sides; }\n",
        "};\n",
        "\n",
        "class Rectangle : public Shape {\n",
        "private:\n",
        "  int width;\n",
        "  int height;\n",
        "\n",
        "public:\n",
        "  Rectangle(int width, int height) : Shape(4), width(width), height(height) {}\n",
        "\n",
        "  int get_area() const override {\n",
        "    return width * height;\n",
        "  }\n",
        "};\n",
        "\n",
        "class Triangle : public Shape {\n",
        "private:\n",
        "  int base;\n",
        "  int height;\n",
        "\n",
        "public:\n",
        "  Triangle(int base, int height) : Shape(3), base(base), height(height) {}\n",
        "\n",
        "  int get_area() const override {\n",
        "    return base * height / 2;\n",
        "  }\n",
        "};\n",
        "\n",
        "int main() {\n",
        "  Shape *shapes[] = { new Rectangle(10, 20), new Triangle(10, 20) };\n",
        "  for (const auto &shape : shapes) {\n",
        "    std::cout << \"area: \" << shape->get_area() << \", sides: \" << shape->get_sides() << std::endl;\n",
        "  }\n",
        "  return 0;\n",
        "}\n"
      ],
      "metadata": {
        "colab": {
          "base_uri": "https://localhost:8080/"
        },
        "id": "Od1q9jBoQqs6",
        "outputId": "5f3f3084-7e96-49c2-99c0-a8354a620b8c"
      },
      "execution_count": null,
      "outputs": [
        {
          "output_type": "stream",
          "name": "stdout",
          "text": [
            "area: 200, sides: 4\n",
            "area: 100, sides: 3\n",
            "\n",
            "CPU times: user 7.63 ms, sys: 10.3 ms, total: 17.9 ms\n",
            "Wall time: 1.57 s\n"
          ]
        }
      ]
    },
    {
      "cell_type": "markdown",
      "source": [
        "In this implementation, the `Shape` class represents a geometric shape with a certain number of sides. The class has a protected attribute called `sides` that stores the number of sides, and two member functions: `get_area`, which returns the area of the shape, and `get_sides`, which returns the number of sides. The `get_area` function is marked as virtual, which means that it can be overridden by derived classes.\n",
        "\n",
        "The `Rectangle` and `Triangle` classes are derived from the `Shape` class, and they override the `get_area` function to provide their own implementation based on the width and height of the rectangle or the base and height of the triangle. They also inherit the `get_sides` function from the `Shape` class, which allows them to return the correct number of sides for their respective shapes."
      ],
      "metadata": {
        "id": "CSko6o3KXagN"
      }
    },
    {
      "cell_type": "markdown",
      "source": [
        "## polymorphism"
      ],
      "metadata": {
        "id": "zWnJtfo7YnWn"
      }
    },
    {
      "cell_type": "markdown",
      "source": [
        "**what is polymorphism?**\n",
        "\n",
        "\n",
        "In C++, you can use inheritance and other techniques to achieve polymorphism, which allows you to write code that can be used with multiple types of objects in a flexible way. This can be useful in quantitative finance when you need to create classes that represent different financial instruments or models, and you want to be able to use them in a consistent way."
      ],
      "metadata": {
        "id": "-ZWQMsu0ZB-y"
      }
    },
    {
      "cell_type": "markdown",
      "source": [
        "implement polymorphism in C++:"
      ],
      "metadata": {
        "id": "IVPW-Xb7z6Vi"
      }
    },
    {
      "cell_type": "code",
      "source": [
        "%%cu\n",
        "#include <iostream>\n",
        "\n",
        "// Base class\n",
        "class Shape {\n",
        " public:\n",
        "  virtual double area() const = 0;\n",
        "  virtual double perimeter() const = 0;\n",
        "};\n",
        "\n",
        "// Derived class\n",
        "class Rectangle : public Shape {\n",
        " private:\n",
        "  double width_;\n",
        "  double height_;\n",
        " public:\n",
        "  Rectangle(double width, double height) : width_(width), height_(height) {}\n",
        "  double area() const override { return width_ * height_; }\n",
        "  double perimeter() const override { return 2 * (width_ + height_); }\n",
        "};\n",
        "\n",
        "// Another derived class\n",
        "class Circle : public Shape {\n",
        " private:\n",
        "  double radius_;\n",
        " public:\n",
        "  Circle(double radius) : radius_(radius) {}\n",
        "  double area() const override { return 3.14 * radius_ * radius_; }\n",
        "  double perimeter() const override { return 2 * 3.14 * radius_; }\n",
        "};\n",
        "\n",
        "int main() {\n",
        "  Shape *s1 = new Rectangle(10, 5);\n",
        "  Shape *s2 = new Circle(2);\n",
        "\n",
        "  std::cout << \"Rectangle area: \" << s1->area() << std::endl;\n",
        "  std::cout << \"Circle area: \" << s2->area() << std::endl;\n",
        "\n",
        "  delete s1;\n",
        "  delete s2;\n",
        "  return 0;\n",
        "}\n"
      ],
      "metadata": {
        "colab": {
          "base_uri": "https://localhost:8080/"
        },
        "id": "6WuRnf8tYtPt",
        "outputId": "b3b329d7-8db8-40b1-96d5-affe256ef633"
      },
      "execution_count": null,
      "outputs": [
        {
          "output_type": "stream",
          "name": "stdout",
          "text": [
            "Rectangle area: 50\n",
            "Circle area: 12.56\n",
            "\n"
          ]
        }
      ]
    },
    {
      "cell_type": "markdown",
      "source": [
        "In this implementation, the `Shape` class is the base class and the `Rectangle` and `Circle` classes are derived classes. The `Shape` class has two pure virtual functions, `area` and `perimeter`, which are implemented in the derived classes.\n",
        "\n",
        "The `Rectangle` class has two private member variables, `width_` and `height_`, and the `Circle` class has one private member variable, `radius_`. Both derived classes override the `area` and `perimeter` functions to provide their own implementations.\n",
        "\n",
        "In the main function, we create a `Rectangle` object and a `Circle` object and store their addresses in pointers of type `Shape`. Since `Rectangle` and `Circle` are both derived from `Shape`, we can store their addresses in `Shape` pointers.\n",
        "\n",
        "We then call the `area` function on both objects using the `Shape` pointers. Since the `area` function is virtual in the base class, the correct implementation of the function (either the one in `Rectangle` or the one in `Circle`) is called at runtime depending on the type of the object. This is an example of polymorphism, where a single function call can behave differently depending on the type of the object it is called on.\n",
        "\n",
        "\n",
        "\n"
      ],
      "metadata": {
        "id": "rht6Y79sY9W7"
      }
    },
    {
      "cell_type": "markdown",
      "source": [
        "## operator overloading"
      ],
      "metadata": {
        "id": "UKSWDpGqfQ5m"
      }
    },
    {
      "cell_type": "markdown",
      "source": [
        "**what is operator overloading?**\n",
        "\n",
        "\n",
        "Operator overloading is a feature in C++ that allows you to redefine the meaning of operators such as `+, -, *, /, %, =, ==, !=, <, >, <=, >=` when used with user-defined data types such as classes and structures.\n",
        "\n",
        "When you overload an operator, you provide a new implementation for the operator that is specific to your class or structure. This means that when the overloaded operator is used with an object of your class or structure, it behaves differently than the original operator would.\n",
        "\n",
        "For example, you can overload the `+` operator to concatenate two strings, or to add two numbers together, or to perform any other operation that makes sense for your class or structure.\n",
        "\n",
        "Operator overloading in C++ is achieved by defining a function that has the same name as the operator, but with the keyword `operator` in front of it. The function takes one or more parameters, and it can be a member function of the class or a standalone function."
      ],
      "metadata": {
        "id": "IbW97_SJ0yYD"
      }
    },
    {
      "cell_type": "code",
      "source": [
        "%%cu\n",
        "#include <iostream>\n",
        "#include <cmath>\n",
        "\n",
        "class Price {\n",
        " private:\n",
        "  double value_;  // The value of the price.\n",
        "\n",
        " public:\n",
        "  // Constructor that initializes the value.\n",
        "  Price(double value) : value_(value) {}\n",
        "\n",
        "  // Getter function that returns the value.\n",
        "  double GetValue() const { return value_; }\n",
        "\n",
        "  // Overloaded + operator that performs a time-weighted average of two prices.\n",
        "  Price operator+(const Price& other) const {\n",
        "    return Price((value_ + other.value_) / 2);\n",
        "  }\n",
        "\n",
        "  // Overloaded * operator that multiplies a price by a quantity.\n",
        "  double operator*(double quantity) const {\n",
        "    return value_ * quantity;\n",
        "  }\n",
        "};\n",
        "\n",
        "int main() {\n",
        "  // Create two prices.\n",
        "  Price p1(100);\n",
        "  Price p2(200);\n",
        "\n",
        "  // Perform a time-weighted average of the prices.\n",
        "  Price p3 = p1 + p2;\n",
        "  std::cout << \"Average price: \" << p3.GetValue() << std::endl;\n",
        "\n",
        "  // Multiply a price by a quantity.\n",
        "  double trade_value = p3 * 50;\n",
        "  std::cout << \"Trade value: \" << trade_value << std::endl;\n",
        "\n",
        "  return 0;\n",
        "}\n"
      ],
      "metadata": {
        "id": "hmKq9ez-fkjW",
        "colab": {
          "base_uri": "https://localhost:8080/"
        },
        "outputId": "931e8dca-80c1-486a-c80a-69f468ac22d0"
      },
      "execution_count": null,
      "outputs": [
        {
          "output_type": "stream",
          "name": "stdout",
          "text": [
            "Average price: 150\n",
            "Trade value: 7500\n",
            "\n"
          ]
        }
      ]
    },
    {
      "cell_type": "markdown",
      "source": [
        "\n",
        "This C++ code implement operator overloading by defining the `Price` class and overloading the `+` and `*` operators for this class.\n",
        "\n",
        "The `Price` class has a private data member called `value_` that represents the value of a price. It has a constructor that takes a `double` value and initializes the `value_` member. It also has a public getter function called `GetValue()` that returns the value of a `Price` object.\n",
        "\n",
        "The `Price` class then overloads the `+` operator using the `operator+` function. The `operator+` function takes a reference to another `Price` object and returns a new `Price` object that represents the time-weighted average of the two prices. This is achieved by adding the values of the two prices and dividing by 2, and then creating a new `Price` object with this value.\n",
        "\n",
        "The Price class also overloads the `*` operator using the `operator*` function. The `operator*` function takes a `double` quantity and returns the product of the value of the `Price` object and the quantity.\n",
        "\n",
        "In the `main` function, two `Price` objects are created, and their time-weighted average is calculated using the overloaded `+` operator. The resulting Price object is then printed using `GetValue()`.\n",
        "\n",
        "The `*` operator is then used to multiply the time-weighted average `Price` object by a quantity, and the resulting value is printed.\n",
        "\n",
        "By overloading the `+` and `*` operators for the `Price` class, the code allows for more intuitive and natural use of these operators with `Price` objects."
      ],
      "metadata": {
        "id": "qsSFFW0s5Fht"
      }
    },
    {
      "cell_type": "markdown",
      "source": [
        "## memory memagement"
      ],
      "metadata": {
        "id": "8Yz9U9AElNj-"
      }
    },
    {
      "cell_type": "markdown",
      "source": [
        "**what is memory leak?**\n",
        "\n",
        "\n",
        "example of memory leak:\n",
        ">look at the RAM bar when running the code"
      ],
      "metadata": {
        "id": "A4iv4OzaRuLG"
      }
    },
    {
      "cell_type": "code",
      "source": [
        "%%cu\n",
        "#include <iostream>\n",
        "#include <string>\n",
        "\n",
        "using namespace std;\n",
        "\n",
        "int main() {\n",
        "  while (true) {\n",
        "    // Allocate memory for a new string\n",
        "    string* s = new string(\"Hello, World!\");\n",
        "    // We forgot to delete the string, so the memory is never freed\n",
        "  }\n",
        "  return 0;\n",
        "}\n"
      ],
      "metadata": {
        "id": "ZoxoaW9plRRw",
        "colab": {
          "base_uri": "https://localhost:8080/"
        },
        "outputId": "14287571-3c8e-4ebe-ab5a-e880c5485cdd"
      },
      "execution_count": null,
      "outputs": [
        {
          "output_type": "stream",
          "name": "stdout",
          "text": [
            "\n"
          ]
        }
      ]
    },
    {
      "cell_type": "markdown",
      "source": [
        "In this example, the program continually allocates memory for a new string, but it never frees the memory by calling delete. This results in a memory leak, as the program continually consumes more and more memory without ever releasing it."
      ],
      "metadata": {
        "id": "azVu3GbNSPBF"
      }
    },
    {
      "cell_type": "markdown",
      "source": [
        "To fix this memory leak, we would need to add a delete statement to free the memory when it is no longer needed:\n",
        "> it runs forever"
      ],
      "metadata": {
        "id": "A0cSYZqESQuu"
      }
    },
    {
      "cell_type": "code",
      "source": [
        "%%cu\n",
        "#include <iostream>\n",
        "#include <string>\n",
        "\n",
        "using namespace std;\n",
        "\n",
        "int main() {\n",
        "  while (true) {\n",
        "    // Allocate memory for a new string\n",
        "    string* s = new string(\"Hello, World!\");\n",
        "    // Do something with the string\n",
        "    cout << *s << endl;\n",
        "    // Free the memory when we're done with the string\n",
        "    delete s;\n",
        "  }\n",
        "  return 0;\n",
        "}\n"
      ],
      "metadata": {
        "id": "YSOrTjaBSSd0"
      },
      "execution_count": null,
      "outputs": []
    },
    {
      "cell_type": "markdown",
      "source": [
        "**what is segmentation fault?**\n",
        " \n",
        " example of segmentation fault:"
      ],
      "metadata": {
        "id": "X7ZL6HiFTNh-"
      }
    },
    {
      "cell_type": "markdown",
      "source": [
        "In this example, the program attempts to access the element at index 0 of an uninitialized pointer array. This results in a segmentation fault, as the program is trying to access memory that it is not allowed to access.\n",
        "\n"
      ],
      "metadata": {
        "id": "y1Cr4th4TcKE"
      }
    },
    {
      "cell_type": "code",
      "source": [
        "%%cu\n",
        "#include <iostream>\n",
        "\n",
        "int main() {\n",
        "  int* array = NULL;\n",
        "  // Attempt to access an element of the array\n",
        "  std::cout << array[0] << std::endl;\n",
        "  return 0;\n",
        "}\n"
      ],
      "metadata": {
        "colab": {
          "base_uri": "https://localhost:8080/"
        },
        "id": "eWEA5Or9TQxt",
        "outputId": "674db88a-0a4a-4764-8662-a77bbeae1ddf"
      },
      "execution_count": null,
      "outputs": [
        {
          "output_type": "stream",
          "name": "stdout",
          "text": [
            "\n"
          ]
        }
      ]
    },
    {
      "cell_type": "markdown",
      "source": [
        "Another common cause of segmentation faults is dereferencing a null pointer:\n",
        "\n"
      ],
      "metadata": {
        "id": "G1cb2nElTdjk"
      }
    },
    {
      "cell_type": "code",
      "source": [
        "%%cu\n",
        "#include <iostream>\n",
        "\n",
        "int main() {\n",
        "  int* ptr = NULL;\n",
        "  // Attempt to dereference the null pointer\n",
        "  *ptr = 42;\n",
        "  return 0;\n",
        "}\n"
      ],
      "metadata": {
        "colab": {
          "base_uri": "https://localhost:8080/"
        },
        "id": "KKxWbCYhTYA6",
        "outputId": "10ac7a30-5e14-45da-ec68-165640744396"
      },
      "execution_count": null,
      "outputs": [
        {
          "output_type": "stream",
          "name": "stdout",
          "text": [
            "\n"
          ]
        }
      ]
    },
    {
      "cell_type": "markdown",
      "source": [
        "In this example, the program attempts to dereference the null pointer ptr, which also results in a segmentation fault.\n",
        "\n",
        "To avoid segmentation faults, you should ensure that pointers are initialized to valid memory locations before dereferencing them and that you do not try to access memory that you are not allowed to access."
      ],
      "metadata": {
        "id": "kxICaswHTjjs"
      }
    },
    {
      "cell_type": "markdown",
      "source": [
        "implement memory management:"
      ],
      "metadata": {
        "id": "8dN4GrqqT1qB"
      }
    },
    {
      "cell_type": "code",
      "source": [
        "%%cu\n",
        "#include <iostream>\n",
        "\n",
        "int main() {\n",
        "  // Allocate memory for an array of 100 integers\n",
        "  int* data = new int[100];\n",
        "\n",
        "  // Initialize the array with some values\n",
        "  for (int i = 0; i < 100; i++) {\n",
        "    data[i] = i;\n",
        "  }\n",
        "\n",
        "  // Do some calculations with the data\n",
        "  double sum = 0;\n",
        "  for (int i = 0; i < 100; i++) {\n",
        "    sum += data[i];\n",
        "  }\n",
        "  std::cout << \"Sum: \" << sum << std::endl;\n",
        "\n",
        "  // Deallocate the memory\n",
        "  delete[] data;\n",
        "\n",
        "  return 0;\n",
        "}\n"
      ],
      "metadata": {
        "colab": {
          "base_uri": "https://localhost:8080/"
        },
        "id": "umubLL37T5rF",
        "outputId": "1a8c6628-eaeb-4e2a-cb15-1416b7d89985"
      },
      "execution_count": null,
      "outputs": [
        {
          "output_type": "stream",
          "name": "stdout",
          "text": [
            "Sum: 4950\n",
            "\n"
          ]
        }
      ]
    },
    {
      "cell_type": "markdown",
      "source": [
        "In this implementation, we use the new operator to dynamically allocate memory for an array of 100 integers. We then initialize the array with some values and perform some calculations with the data. After we are done with the data, we use the `delete[]` operator to deallocate the memory that was previously allocated with new.\n",
        "\n",
        "Proper memory management is important in this implementation because we are responsible for allocating and deallocating the memory ourselves. If we fail to deallocate the memory after we are finished with it, we could potentially run into issues such as memory leaks or segmentation faults. By using new and delete appropriately, we can ensure that our application uses memory efficiently and runs smoothly."
      ],
      "metadata": {
        "id": "HzuJVNL3UGuU"
      }
    },
    {
      "cell_type": "markdown",
      "source": [
        "## namespaces"
      ],
      "metadata": {
        "id": "iYX2we3vlRrB"
      }
    },
    {
      "cell_type": "markdown",
      "source": [
        "**what is a namespace?**\n",
        "\n",
        "In C++, a namespace is a container that holds a set of identifiers (e.g. functions, variables, classes, etc.). Namespaces are used to organize and group related identifiers and to avoid naming conflicts between different identifiers that may have the same name.\n",
        "\n",
        "Namespaces are important in quantitative finance applications because they can help to avoid naming conflicts and improve the organization and readability of the code. In quantitative finance applications, it is common to use many different libraries and frameworks that may define their own identifiers. By using namespaces, it is possible to clearly differentiate between the identifiers defined by different libraries and frameworks, and to avoid any conflicts that may arise from having multiple identifiers with the same name."
      ],
      "metadata": {
        "id": "7O8wei0zVU-c"
      }
    },
    {
      "cell_type": "markdown",
      "source": [
        "implement namespaces in C++:"
      ],
      "metadata": {
        "id": "yxC5yXUr6knT"
      }
    },
    {
      "cell_type": "code",
      "source": [
        "%%cu\n",
        "#include <iostream>\n",
        "\n",
        "// Define a namespace \"math\"\n",
        "namespace math {\n",
        "  double pi = 3.14159;\n",
        "\n",
        "  double add(double a, double b) {\n",
        "    return a + b;\n",
        "  }\n",
        "}\n",
        "\n",
        "int main() {\n",
        "  // Use the identifiers from the \"math\" namespace\n",
        "  std::cout << \"pi = \" << math::pi << std::endl;\n",
        "  std::cout << \"2 + 3 = \" << math::add(2, 3) << std::endl;\n",
        "\n",
        "  return 0;\n",
        "}\n"
      ],
      "metadata": {
        "id": "V3DObBj9lT1k",
        "colab": {
          "base_uri": "https://localhost:8080/"
        },
        "outputId": "5619869d-76ff-4106-f908-3f03cf0e1730"
      },
      "execution_count": null,
      "outputs": [
        {
          "output_type": "stream",
          "name": "stdout",
          "text": [
            "pi = 3.14159\n",
            "2 + 3 = 5\n",
            "\n"
          ]
        }
      ]
    },
    {
      "cell_type": "markdown",
      "source": [
        "In this example, we define a namespace \"math\" that contains the identifier `pi` and the function add. We can access these identifiers by using the namespace name as a prefix (e.g. `math::pi`). This allows us to clearly differentiate between these identifiers and any other identifiers that may have the same name.\n",
        "\n",
        "Overall, namespaces are an important tool in C++ for organizing and avoiding naming conflicts in quantitative finance applications, and they can help to improve the readability and maintainability of the code."
      ],
      "metadata": {
        "id": "MHdI70NsVY7A"
      }
    },
    {
      "cell_type": "markdown",
      "source": [
        "## exception handling"
      ],
      "metadata": {
        "id": "_3ZBYWkwlUgR"
      }
    },
    {
      "cell_type": "markdown",
      "source": [
        "**what is exception handling?**\n",
        "\n",
        "Exception handling is a mechanism in C++ (and other programming languages) that allows a program to handle runtime errors or exceptional conditions in a structured and predictable way. Exception handling is important to quantitative finance applications because it can help to improve the reliability and robustness of the software.\n",
        "\n",
        "In C++, exception handling is implemented using the try and catch statements. The try block encloses a block of code that may throw an exception, and the catch block handles the exception if it is thrown."
      ],
      "metadata": {
        "id": "HxSu2S_6WJ4a"
      }
    },
    {
      "cell_type": "markdown",
      "source": [
        "implement exception handling:"
      ],
      "metadata": {
        "id": "txNDqBEO61l4"
      }
    },
    {
      "cell_type": "code",
      "source": [
        "%%cu\n",
        "#include <iostream>\n",
        "#include <stdexcept>\n",
        "\n",
        "int main() {\n",
        "  try {\n",
        "    // Code that may throw an exception\n",
        "    int a = 5;\n",
        "    int b = 0;\n",
        "    if (b == 0) {\n",
        "      throw std::runtime_error(\"Division by zero\");\n",
        "    }\n",
        "    int c = a / b;\n",
        "    std::cout << \"c = \" << c << std::endl;\n",
        "  } catch (const std::runtime_error& e) {\n",
        "    // Exception handling code\n",
        "    std::cerr << \"Error: \" << e.what() << std::endl;\n",
        "  }\n",
        "\n",
        "  return 0;\n",
        "}\n"
      ],
      "metadata": {
        "id": "I20IPRnClW4Y",
        "colab": {
          "base_uri": "https://localhost:8080/"
        },
        "outputId": "87ff5bd2-42eb-4f4e-a1bb-2752898a1f84"
      },
      "execution_count": null,
      "outputs": [
        {
          "output_type": "stream",
          "name": "stdout",
          "text": [
            "Error: Division by zero\n",
            "\n"
          ]
        }
      ]
    },
    {
      "cell_type": "markdown",
      "source": [
        "In this implementation, we use a `try` block to enclose a block of code that may throw a `std::runtime_error` exception if the division by zero is attempted. If the exception is thrown, it is caught by the `catch` block, which prints an error message to the standard error stream.\n",
        "\n",
        "Exception handling is important in quantitative finance applications because it allows the program to handle exceptional conditions in a controlled and predictable way, rather than crashing or producing undefined results. This can help to improve the reliability and robustness of the software, and to ensure that it continues to function correctly even in the presence of errors or exceptional conditions."
      ],
      "metadata": {
        "id": "My2Mi4W1WOBf"
      }
    },
    {
      "cell_type": "markdown",
      "source": [
        "# C++ and financial engineering"
      ],
      "metadata": {
        "id": "hZ-HSBooIia-"
      }
    },
    {
      "cell_type": "markdown",
      "source": [
        "## option pricing"
      ],
      "metadata": {
        "id": "5aHYtT97663E"
      }
    },
    {
      "cell_type": "markdown",
      "source": [
        "### Binomial tree method "
      ],
      "metadata": {
        "id": "Aumb3wCXomf4"
      }
    },
    {
      "cell_type": "markdown",
      "source": [
        "use the binomial tree model to price an option:\n",
        "\n",
        "- Initial stock price: 100\n",
        "- Strike price: 100\n",
        "- Expiration time: 1 year\n",
        "- Interest rate: 5%\n",
        "- Dividend yield: 2%\n",
        "- Volatility: 20%\n",
        "\n",
        "These values are assigned to the variables `S`, `K`, `T`, `r`, `q`, and `sigma`."
      ],
      "metadata": {
        "id": "v-fV5sAO7_-t"
      }
    },
    {
      "cell_type": "code",
      "source": [
        "%%cu\n",
        "#include <iostream>\n",
        "#include <vector>\n",
        "\n",
        "// Define a class to represent a node in the tree\n",
        "class Node {\n",
        "public:\n",
        "  // Constructor\n",
        "  Node(double price, double time, double interest) : price(price), time(time), interest(interest) {}\n",
        "\n",
        "  // Member variables to hold the price, time, and interest rate\n",
        "  double price;\n",
        "  double time;\n",
        "  double interest;\n",
        "\n",
        "  // Pointers to the node's children\n",
        "  std::vector<Node*> children;\n",
        "\n",
        "  // Option price at this node\n",
        "  double optionPrice;\n",
        "};\n",
        "\n",
        "// Build the tree using the binomial model\n",
        "void buildTree(Node* root, int numPeriods, double sigma, double u, double d) {\n",
        "  // Base case: if the root node is a leaf, return\n",
        "  if (root->time == numPeriods) {\n",
        "    return;\n",
        "  }\n",
        "\n",
        "  // Otherwise, create the children nodes\n",
        "  double priceU = root->price * u;\n",
        "  double priceD = root->price * d;\n",
        "  double time = root->time + 1;\n",
        "  double interest = root->interest;\n",
        "\n",
        "  root->children.push_back(new Node(priceU, time, interest));\n",
        "  root->children.push_back(new Node(priceD, time, interest));\n",
        "\n",
        "  // Recurse on the children nodes\n",
        "  buildTree(root->children[0], numPeriods, sigma, u, d);\n",
        "  buildTree(root->children[1], numPeriods, sigma, u, d);\n",
        "}\n",
        "\n",
        "// Calculate the option price using the backward induction step\n",
        "double priceOption(Node* root, double strike, double p) {\n",
        "  // Base case: if the root node is a leaf, return the option's payoff\n",
        "  if (root->time == 0) {\n",
        "    return root->price > strike ? root->price - strike : 0;\n",
        "  }\n",
        "\n",
        "  // Otherwise, calculate the option price at the children nodes\n",
        "  root->children[0]->optionPrice = priceOption(root->children[0], strike, p);\n",
        "  root->children[1]->optionPrice = priceOption(root->children[1], strike, p);\n",
        "\n",
        "  // Use the option prices at the children nodes to calculate the option price at the root node\n",
        "  double disc = 1 / (1 + root->interest);\n",
        "  root->optionPrice = (p * root->children[0]->optionPrice + (1 - p) * root->children[1]->optionPrice) * disc;\n",
        "\n",
        "  return root->optionPrice;\n",
        "}\n",
        "\n",
        "int main() {\n",
        "  // Build a tree for an asset with initial price 100, 5 time periods, and interest rate 0.1\n",
        "  Node* root = new Node(100, 0, 0.1);\n",
        "  buildTree(root, 5, 0.2, 1.1, 0.9);\n",
        "\n",
        "  // Calculate the price of a call option with strike price 95\n",
        "  double optionPrice = priceOption(root, 95, 0.5);\n",
        "  std::cout << \"Option price: \" << optionPrice << std::endl;\n",
        "\n",
        "  return 0;\n",
        "}\n"
      ],
      "metadata": {
        "colab": {
          "base_uri": "https://localhost:8080/"
        },
        "id": "Gd6Cwz8-v-1O",
        "outputId": "04a62f69-211c-4a1a-fc32-f9a1d9fd708d"
      },
      "execution_count": null,
      "outputs": [
        {
          "output_type": "stream",
          "name": "stdout",
          "text": [
            "Option price: 5\n",
            "\n"
          ]
        }
      ]
    },
    {
      "cell_type": "markdown",
      "source": [
        "The `Node` class represents a node in the tree, and has member variables to hold the asset's price, time period, and risk-free interest rate at that point in time. It also has pointers to the node's children and a member variable `optionPrice` to hold the option's price at that node.\n",
        "\n",
        "The `buildTree` function builds the tree using the binomial model. It takes as input the root node, the number of time periods, and the volatility and up/down factors for the asset. It creates children nodes for the root node using the up and down factors, and then recursively builds the tree using these children as the root nodes.\n",
        "\n",
        "The `priceOption` function calculates the option price using the backward induction step. It takes as input the root node, the strike price of the option, and the probability of the asset's price going up. It first calculates the option prices at the children nodes by recursively calling itself on the children nodes. Then it uses the option prices at the children nodes to calculate the option price at the root node using the formula:\n",
        "\n",
        "```\n",
        "optionPrice = (p * optionPrice[up] + (1 - p) * optionPrice[down]) / (1 + interest)\n",
        "```\n",
        "\n",
        "where `p` is the probability of the asset's price going up, `interest` is the risk-free interest rate, and `optionPrice[up]` and `optionPrice[down]` are the option prices at the children nodes corresponding to the asset's price going up or down. The function returns the option price at the root node.\n",
        "\n",
        "Finally, in the main function, we build the tree using the `buildTree` function and then use the `priceOptio` function to calculate the option price. The option price is then printed to the console."
      ],
      "metadata": {
        "id": "pzgEiYYJwnoL"
      }
    },
    {
      "cell_type": "markdown",
      "source": [
        "### Black-Scholes model"
      ],
      "metadata": {
        "id": "bTDrxNa2CUiq"
      }
    },
    {
      "cell_type": "markdown",
      "source": [
        "use the Black-Scholes formula to calculate the price of a European call option:\n",
        "\n",
        "- Underlying asset price: 100\n",
        "- Strike price: 105\n",
        "- Risk-free interest rate: 5%\n",
        "- Volatility: 20%\n",
        "- Time to expiration: 1 year\n",
        "\n",
        "These values are assigned to the variables `S`, `K`, `r`, `sigma`, and `T`."
      ],
      "metadata": {
        "id": "BE48qvqurrEP"
      }
    },
    {
      "cell_type": "code",
      "source": [
        "%%cu\n",
        "#include <iostream>\n",
        "#include <cmath>\n",
        "#include <boost/math/distributions/normal.hpp>\n",
        "\n",
        "\n",
        "// Black-Scholes formula for pricing European call options\n",
        "double blackScholes(double S, double K, double r, double sigma, double T) {\n",
        "  double d1 = (log(S / K) + (r + sigma * sigma / 2) * T) / (sigma * sqrt(T));\n",
        "  double d2 = d1 - sigma * sqrt(T);\n",
        "  boost::math::normal_distribution<double> normal;\n",
        "  return S * boost::math::cdf(normal, d1) - K * exp(-r * T) * boost::math::cdf(normal, d2);\n",
        "}\n",
        "\n",
        "int main() {\n",
        "  double S = 100;   // underlying asset price\n",
        "  double K = 105;   // strike price\n",
        "  double r = 0.05;  // risk-free interest rate\n",
        "  double sigma = 0.2; // volatility\n",
        "  double T = 1;     // time to expiration (in years)\n",
        "\n",
        "  double callPrice = blackScholes(S, K, r, sigma, T);\n",
        "  std::cout << \"Call price: \" << callPrice << std::endl;\n",
        "\n",
        "  return 0;\n",
        "}\n"
      ],
      "metadata": {
        "colab": {
          "base_uri": "https://localhost:8080/"
        },
        "id": "6I8wObcnb2L6",
        "outputId": "ff49f20b-748a-4724-e91c-e8075c5015e7"
      },
      "execution_count": null,
      "outputs": [
        {
          "output_type": "stream",
          "name": "stdout",
          "text": [
            "Call price: 8.02135\n",
            "\n"
          ]
        }
      ]
    },
    {
      "cell_type": "markdown",
      "source": [
        "In this implementation, the `blackScholes` function takes in 5 arguments: the underlying asset price `S`, the strike price `K`, the risk-free interest rate `r`, the volatility `sigma`, and the time to expiration `T` (in years). The function calculates two values `d1` and `d2` using these inputs and then uses the cumulative distribution function of the standard normal distribution to calculate the call option price. The main function sets values for these inputs and calls the `blackScholes` function to calculate and output the call option price."
      ],
      "metadata": {
        "id": "QhONmgEWsSpA"
      }
    },
    {
      "cell_type": "markdown",
      "source": [
        "### Monte Carlo simulation method\n",
        "\n",
        "- Underlying asset price: 100\n",
        "- Strike price: 105\n",
        "- Risk-free interest rate: 5%\n",
        "- Volatility: 20%\n",
        "- Time to expiration: 1 year\n",
        "- Number of simulations: 100000\n",
        "\n",
        "These values are assigned to the variables `S`, `K`, `r`, `sigma`, `T`, and `N`."
      ],
      "metadata": {
        "id": "9cC2cH6U6yB4"
      }
    },
    {
      "cell_type": "code",
      "source": [
        "%%cu\n",
        "// Monte Carlo simulation for pricing European call options\n",
        "#include <iostream>\n",
        "#include <cmath>\n",
        "#include <random>\n",
        "\n",
        "// Generate a random sample from a standard normal distribution\n",
        "double normalSample() {\n",
        "  std::random_device rd;\n",
        "  std::mt19937 gen(rd());\n",
        "  std::normal_distribution<double> normal(0.0, 1.0);\n",
        "  return normal(gen);\n",
        "}\n",
        "\n",
        "// Calculate the option price using Monte Carlo simulation\n",
        "double monteCarlo(double S, double K, double r, double sigma, double T, int N) {\n",
        "  double sum = 0.0; // sum of the payoffs\n",
        "  for (int i = 0; i < N; i++) {\n",
        "    // generate a random sample from a standard normal distribution\n",
        "    double z = normalSample();\n",
        "    // simulate the stock price at expiration using geometric Brownian motion\n",
        "    double ST = S * exp((r - sigma * sigma / 2) * T + sigma * sqrt(T) * z);\n",
        "    // calculate the payoff of the call option\n",
        "    double payoff = ST > K ? ST - K : 0.0;\n",
        "    // add the payoff to the sum\n",
        "    sum += payoff;\n",
        "  }\n",
        "  // calculate the average payoff\n",
        "  double avg = sum / N;\n",
        "  // discount the average payoff to get the present value\n",
        "  double pv = avg * exp(-r * T);\n",
        "  // return the option price\n",
        "  return pv;\n",
        "}\n",
        "\n",
        "int main() {\n",
        "  double S = 100;   // underlying asset price\n",
        "  double K = 105;   // strike price\n",
        "  double r = 0.05;  // risk-free interest rate\n",
        "  double sigma = 0.2; // volatility\n",
        "  double T = 1;     // time to expiration (in years)\n",
        "  int N = 100000;   // number of simulations\n",
        "\n",
        "  double callPrice = monteCarlo(S, K, r, sigma, T, N);\n",
        "  std::cout << \"Call price: \" << callPrice << std::endl;\n",
        "\n",
        "  return 0;\n",
        "}"
      ],
      "metadata": {
        "id": "j-JuFcsT_qDM",
        "colab": {
          "base_uri": "https://localhost:8080/"
        },
        "outputId": "5c9ce433-3793-4d08-c5b8-d8713f648dae"
      },
      "execution_count": null,
      "outputs": [
        {
          "output_type": "stream",
          "name": "stdout",
          "text": [
            "Call price: 7.99354\n",
            "\n"
          ]
        }
      ]
    },
    {
      "cell_type": "markdown",
      "source": [
        "This code uses Monte Carlo simulation to price European call options. The code includes a function `normalSample()` that generates a random sample from a standard normal distribution and a function `monteCarlo()` that calculates the option price using Monte Carlo simulation. The `main()` function sets the parameters for the simulation and calls the `monteCarlo()` function to calculate the call price. The result is then printed to the console."
      ],
      "metadata": {
        "id": "Nk_gHgo7Rph1"
      }
    },
    {
      "cell_type": "markdown",
      "source": [
        "## swap pricing"
      ],
      "metadata": {
        "id": "hpOdNNiL9Ml1"
      }
    },
    {
      "cell_type": "markdown",
      "source": [
        "### vanilla interest rate swap\n",
        "\n",
        "The inputs of this code are the following:\n",
        "- `notional`: the notional amount of the swap, with a value of `1,000,000`.\n",
        "- `fixedRate`: the fixed rate of the swap, with a value of `0.09`.\n",
        "- `frequency`: the frequency of the swap payments (semi-annual), with a value of `2`.\n",
        "- `maturity`: the maturity of the swap in years, with a value of `1.5`.\n",
        "- `floatingRate`: the starting floating rate of the swap, with a value of `0.01`.\n",
        "- `marketRate`: the market rate for discounting future cash flows, with a value of `0.04`."
      ],
      "metadata": {
        "id": "MQzi_kPEMMFe"
      }
    },
    {
      "cell_type": "code",
      "source": [
        "%%cu\n",
        "#include <iostream>\n",
        "#include <cmath>\n",
        "\n",
        "using namespace std;\n",
        "\n",
        "// Define a function to calculate the present value of a cash flow\n",
        "double presentValue(double cashFlow, double discountFactor) {\n",
        "  return cashFlow * discountFactor;\n",
        "}\n",
        "\n",
        "int main() {\n",
        "\n",
        "  // Input parameters\n",
        "  double notional = 1000000; // Notional amount of the swap\n",
        "  double fixedRate = 0.09; // Fixed rate of the swap\n",
        "  double frequency = 2; // Frequency of the swap payments (semi-annual)\n",
        "  double maturity = 1.5; // Maturity of the swap in years\n",
        "  double floatingRate = 0.01; // Starting floating rate of the swap\n",
        "  double marketRate = 0.04; // Market rate for discounting future cash flows\n",
        "  \n",
        "  // Calculate the discount factor\n",
        "  double discountFactor = 1 / pow(1 + marketRate/frequency, frequency*maturity);\n",
        "  \n",
        "  // Calculate the fixed leg cash flow\n",
        "  double fixedCashFlow = notional * fixedRate / frequency;\n",
        "  \n",
        "  // Calculate the present value of the fixed leg\n",
        "  double fixedPV = presentValue(fixedCashFlow, discountFactor);\n",
        "  \n",
        "  // Calculate the floating leg cash flows\n",
        "  int numPayments = maturity * frequency;\n",
        "  double floatingCashFlows = 0.0;\n",
        "  for (int i = 1; i <= numPayments; i++) {\n",
        "    floatingCashFlows += notional * (floatingRate + marketRate) / frequency;\n",
        "  }\n",
        "  \n",
        "  // Calculate the present value of the floating leg\n",
        "  double floatingPV = presentValue(floatingCashFlows, discountFactor);\n",
        "  \n",
        "  // Calculate the net present value of the swap\n",
        "  double npv = fixedPV - floatingPV;\n",
        "  \n",
        "  // Output the results\n",
        "  cout << \"Fixed leg PV: \" << fixedPV << endl;\n",
        "  cout << \"Floating leg PV: \" << floatingPV << endl;\n",
        "  cout << \"Net present value: \" << npv << endl;\n",
        "\n",
        "  return 0;\n",
        "}\n"
      ],
      "metadata": {
        "colab": {
          "base_uri": "https://localhost:8080/"
        },
        "id": "42rlsQaf9Oe_",
        "outputId": "783838f4-3ce6-493c-80a0-45ff7ec6fea1"
      },
      "execution_count": null,
      "outputs": [
        {
          "output_type": "stream",
          "name": "stdout",
          "text": [
            "Fixed leg PV: 42404.5\n",
            "Floating leg PV: 70674.2\n",
            "Net present value: -28269.7\n",
            "\n"
          ]
        }
      ]
    },
    {
      "cell_type": "markdown",
      "source": [
        "In this code, we define a function `presentValue` that takes in a cash flow and a discount factor and returns the present value of that cash flow. Then, in the main function, we input the swap parameters: notional, fixed rate, payment frequency, maturity, starting floating rate, and market rate for discounting future cash flows. We calculate the discount factor, fixed leg cash flow, and present value of the fixed leg. We also calculate the floating leg cash flows and present value of the floating leg. Finally, we calculate the net present value of the swap by subtracting the present value of the floating leg from the present value of the fixed leg. The results are output to the console."
      ],
      "metadata": {
        "id": "Y_lDWaS0RDuA"
      }
    },
    {
      "cell_type": "markdown",
      "source": [
        "### currency swap\n",
        "\n",
        "list of the inputs and their values in the code:\n",
        "- `notional`: 1000000\n",
        "- `fixedRate`: 0.05\n",
        "- `spotFx`: 1.2\n",
        "- `forwardFx`: 1.3\n",
        "- `maturity`: 3"
      ],
      "metadata": {
        "id": "JsL6_1kMPoJL"
      }
    },
    {
      "cell_type": "code",
      "source": [
        "%%cu\n",
        "#include <iostream>\n",
        "#include <cmath>\n",
        "using namespace std;\n",
        "\n",
        "// Define a class to represent a currency swap\n",
        "class CurrencySwap {\n",
        "public:\n",
        "  // Constructor\n",
        "  CurrencySwap(double notional, double fixedRate, double spotFx, double forwardFx, double maturity) :\n",
        "    notional(notional), fixedRate(fixedRate), spotFx(spotFx), forwardFx(forwardFx), maturity(maturity) {}\n",
        "\n",
        "  // Member variables to hold the notional, fixed rate, spot FX rate, forward FX rate, and maturity of the swap\n",
        "  double notional;\n",
        "  double fixedRate;\n",
        "  double spotFx;\n",
        "  double forwardFx;\n",
        "  double maturity;\n",
        "\n",
        "  // Swap price at time zero\n",
        "  double swapPrice;\n",
        "};\n",
        "\n",
        "// Calculate the swap price using the spot and forward FX rates and the swap parameters\n",
        "double swapPrice(CurrencySwap swap) {\n",
        "  double price = 0.0; // variable to store the swap price\n",
        "  int n = swap.maturity; // number of payments\n",
        "  for (int i = 1; i <= n; i++) {\n",
        "    // calculate the present value of each fixed and floating payment using the formula: pv = notional * rate * fxRate\n",
        "    double pvFixed = swap.notional * swap.fixedRate * swap.spotFx;\n",
        "    double pvFloating = swap.notional * swap.forwardFx / pow(1 + swap.fixedRate, i);\n",
        "    // add the difference between the fixed and floating payments to the swap price\n",
        "    price += pvFixed - pvFloating;\n",
        "  }\n",
        "  return price;\n",
        "}\n",
        "\n",
        "int main() {\n",
        "  \n",
        "  // Create a currency swap with given notional, fixed rate, spot and forward FX rates, and maturity\n",
        "  CurrencySwap swap(1000000, 0.05, 1.2, 1.3, 3);\n",
        "  \n",
        "  // Calculate the swap price\n",
        "  double npv = swapPrice(swap);\n",
        "  \n",
        "  // Output the swap price\n",
        "  cout << \"Currency swap price: \" << npv << endl;\n",
        "\n",
        "  return 0;\n",
        "}\n"
      ],
      "metadata": {
        "colab": {
          "base_uri": "https://localhost:8080/"
        },
        "id": "khAqwmTUPp5L",
        "outputId": "ee724056-4f4e-4218-86c4-f94f508c9605"
      },
      "execution_count": null,
      "outputs": [
        {
          "output_type": "stream",
          "name": "stdout",
          "text": [
            "Currency swap price: -3.36022e+06\n",
            "\n"
          ]
        }
      ]
    },
    {
      "cell_type": "markdown",
      "source": [
        "we define a `CurrencySwap` class to represent a currency swap, with member variables to hold the notional, fixed rate, spot FX rate, forward FX rate, and maturity of the swap. We also define a `swapPrice` function to calculate the swap price, which takes a `CurrencySwap` object as input and returns the present value of the swap.\n",
        "\n",
        "In the main function, we create a `CurrencySwap` object with given parameters, and then call the `swapPrice` function to calculate the swap price. Finally, we output the swap price to the console."
      ],
      "metadata": {
        "id": "AO668mB1QBG8"
      }
    },
    {
      "cell_type": "markdown",
      "source": [
        "### credit default swap\n",
        "The inputs to the code are `premiumRate`, `spreadRate`, `notional`, `hazardRate`, and `time`. Their values are as follows:\n",
        "- `premiumRate`: 0.02 (premium rate of 2%)\n",
        "- `spreadRate`: 0.01 (spread rate of 1%)\n",
        "- `notional`: 1000000 (notional amount of 1 million dollars)\n",
        "- `hazardRate`: 0.05 (hazard rate of 5%)\n",
        "- `time`: 1"
      ],
      "metadata": {
        "id": "DVquAtn1RSbQ"
      }
    },
    {
      "cell_type": "code",
      "source": [
        "%%cu\n",
        "#include <iostream>\n",
        "#include <cmath>\n",
        "\n",
        "double calculateSurvivalProbability(double hazardRate, double time) {\n",
        "    return exp(-hazardRate * time);\n",
        "}\n",
        "\n",
        "double calculateDefaultProbability(double hazardRate, double time) {\n",
        "    return 1 - calculateSurvivalProbability(hazardRate, time);\n",
        "}\n",
        "\n",
        "double calculatePVofPremium(double premiumRate, double notional, double time) {\n",
        "    return premiumRate * notional * calculateSurvivalProbability(premiumRate, time);\n",
        "}\n",
        "\n",
        "double calculatePVofProtection(double spreadRate, double notional, double hazardRate, double time) {\n",
        "    double defaultProb = calculateDefaultProbability(hazardRate, time);\n",
        "    return defaultProb * notional * spreadRate * calculateSurvivalProbability(hazardRate, time);\n",
        "}\n",
        "\n",
        "double calculateCDSPrice(double premiumRate, double spreadRate, double notional, double hazardRate, double time) {\n",
        "    double pvPremium = calculatePVofPremium(premiumRate, notional, time);\n",
        "    double pvProtection = calculatePVofProtection(spreadRate, notional, hazardRate, time);\n",
        "    return pvPremium - pvProtection;\n",
        "}\n",
        "\n",
        "int main() {\n",
        "    double premiumRate = 0.02; // annual premium rate of 2%\n",
        "    double spreadRate = 0.01; // annual spread rate of 1%\n",
        "    double notional = 1000000; // notional amount of 1 million dollars\n",
        "    double hazardRate = 0.05; // annual hazard rate of 5%\n",
        "    double time = 1; // time in years\n",
        "\n",
        "    double cdsPrice = calculateCDSPrice(premiumRate, spreadRate, notional, hazardRate, time);\n",
        "\n",
        "    std::cout << \"The CDS price is: \" << cdsPrice << std::endl;\n",
        "\n",
        "    return 0;\n",
        "}\n"
      ],
      "metadata": {
        "colab": {
          "base_uri": "https://localhost:8080/"
        },
        "id": "1Az38qFnRUou",
        "outputId": "3e3d8721-79d5-4132-8c12-c482780c0745"
      },
      "execution_count": null,
      "outputs": [
        {
          "output_type": "stream",
          "name": "stdout",
          "text": [
            "The CDS price is: 19140.1\n",
            "\n"
          ]
        }
      ]
    },
    {
      "cell_type": "markdown",
      "source": [
        "The credit default swap is priced by calculating the present value of the premium payments and the present value of the protection payments, and then subtracting the two values. The `calculateSurvivalProbability()` function is used to calculate the probability that the reference entity (i.e., the entity whose credit risk is being hedged) will survive up to the time of the protection payment. The `calculateDefaultProbability()` function is used to calculate the probability that the reference entity will default by the time of the protection payment. The `calculatePVofPremium()` function is used to calculate the present value of the premium payments, and the `calculatePVofProtection()` function is used to calculate the present value of the protection payments. Finally, the `calculateCDSPrice()` function is used to calculate the price of the credit default swap by subtracting the present value of the protection payments from the present value of the premium payments."
      ],
      "metadata": {
        "id": "2RNL80thRdjn"
      }
    },
    {
      "cell_type": "markdown",
      "source": [
        "# end of document"
      ],
      "metadata": {
        "id": "a1sVHYnOIe75"
      }
    },
    {
      "cell_type": "markdown",
      "source": [
        "# prepare C++ for colab"
      ],
      "metadata": {
        "id": "xDHHwOuMfKg7"
      }
    },
    {
      "cell_type": "code",
      "source": [
        "!pip install git+https://github.com/andreinechaev/nvcc4jupyter.git"
      ],
      "metadata": {
        "id": "Ym3DxvGN71uz",
        "colab": {
          "base_uri": "https://localhost:8080/"
        },
        "outputId": "4e64b65a-1d6a-4482-b331-45825146d8be"
      },
      "execution_count": null,
      "outputs": [
        {
          "output_type": "stream",
          "name": "stdout",
          "text": [
            "Looking in indexes: https://pypi.org/simple, https://us-python.pkg.dev/colab-wheels/public/simple/\n",
            "Collecting git+https://github.com/andreinechaev/nvcc4jupyter.git\n",
            "  Cloning https://github.com/andreinechaev/nvcc4jupyter.git to /tmp/pip-req-build-r5g8yiko\n",
            "  Running command git clone --filter=blob:none --quiet https://github.com/andreinechaev/nvcc4jupyter.git /tmp/pip-req-build-r5g8yiko\n",
            "  Resolved https://github.com/andreinechaev/nvcc4jupyter.git to commit aac710a35f52bb78ab34d2e52517237941399eff\n",
            "  Preparing metadata (setup.py) ... \u001b[?25l\u001b[?25hdone\n",
            "Building wheels for collected packages: NVCCPlugin\n",
            "  Building wheel for NVCCPlugin (setup.py) ... \u001b[?25l\u001b[?25hdone\n",
            "  Created wheel for NVCCPlugin: filename=NVCCPlugin-0.0.2-py3-none-any.whl size=4305 sha256=d1c316de32902d8e5fa9df3791c9d5d23401e14ff98b1c1c99c0eef82447b172\n",
            "  Stored in directory: /tmp/pip-ephem-wheel-cache-olg6wrst/wheels/db/c1/1f/a2bb07bbb4a1ce3c43921252aeafaa6205f08637e292496f04\n",
            "Successfully built NVCCPlugin\n",
            "Installing collected packages: NVCCPlugin\n",
            "Successfully installed NVCCPlugin-0.0.2\n"
          ]
        }
      ]
    },
    {
      "cell_type": "code",
      "source": [
        "%load_ext nvcc_plugin"
      ],
      "metadata": {
        "id": "NSIBrrpz767u",
        "colab": {
          "base_uri": "https://localhost:8080/"
        },
        "outputId": "4fc273b8-aab6-45c6-f90d-d303db9ac20f"
      },
      "execution_count": null,
      "outputs": [
        {
          "output_type": "stream",
          "name": "stdout",
          "text": [
            "created output directory at /content/src\n",
            "Out bin /content/result.out\n"
          ]
        }
      ]
    },
    {
      "cell_type": "code",
      "source": [
        "%%cu\n",
        "#include <iostream>\n",
        "    int\n",
        "    main()\n",
        "{\n",
        "    std::cout << \"Hello, world!\\n\";\n",
        "    return 0;\n",
        "}"
      ],
      "metadata": {
        "colab": {
          "base_uri": "https://localhost:8080/"
        },
        "id": "CQdJGkYV8AAc",
        "outputId": "f22577bc-75fb-496a-ee38-0cbeb6658b56"
      },
      "execution_count": null,
      "outputs": [
        {
          "output_type": "stream",
          "name": "stdout",
          "text": [
            "Hello, world!\n",
            "\n"
          ]
        }
      ]
    },
    {
      "cell_type": "code",
      "source": [
        "%%cu\n",
        "#include <iostream>\n",
        "#include <chrono>\n",
        "#include <cmath>\n",
        "\n",
        "int main() {\n",
        "  long long n = std::pow(10, 5);  // Set the value of n\n",
        "  long long sum = 0;  // Initialize the sum to 0\n",
        "  auto start = std::chrono::high_resolution_clock::now();  // Start the timer\n",
        "  for (int i = 1; i <= n; i++) {\n",
        "    sum += i;  // Add i to the sum\n",
        "  }\n",
        "  auto end = std::chrono::high_resolution_clock::now();  // Stop the timer\n",
        "  std::chrono::duration<double> elapsed = end - start;  // Calculate the elapsed time\n",
        "  std::cout << \"Sum of first \" << n << \" natural numbers: \" << sum << std::endl;\n",
        "  std::cout << \"Elapsed time: \" << elapsed.count() << \" seconds\" << std::endl;\n",
        "  return 0;\n",
        "}\n"
      ],
      "metadata": {
        "colab": {
          "base_uri": "https://localhost:8080/"
        },
        "id": "74nQStJt9O77",
        "outputId": "6c3e2f93-e2e7-428d-fcf5-825dad84f3fd"
      },
      "execution_count": null,
      "outputs": [
        {
          "output_type": "stream",
          "name": "stdout",
          "text": [
            "Sum of first 100000 natural numbers: 5000050000\n",
            "Elapsed time: 0.00111439 seconds\n",
            "\n"
          ]
        }
      ]
    },
    {
      "cell_type": "code",
      "source": [
        "!apt-get update\n",
        "!apt-get install libgraphviz-dev"
      ],
      "metadata": {
        "id": "G88YeGyFysom",
        "colab": {
          "base_uri": "https://localhost:8080/"
        },
        "outputId": "e3b91b89-d1a5-4e8f-fee7-b23c985574cf"
      },
      "execution_count": null,
      "outputs": [
        {
          "output_type": "stream",
          "name": "stdout",
          "text": [
            "\r0% [Working]\r            \rGet:1 https://cloud.r-project.org/bin/linux/ubuntu focal-cran40/ InRelease [3,622 B]\n",
            "\r0% [Waiting for headers] [Waiting for headers] [1 InRelease 0 B/3,622 B 0%] [Co\r0% [Waiting for headers] [Waiting for headers] [Connecting to ppa.launchpad.net\r                                                                               \rHit:2 http://archive.ubuntu.com/ubuntu focal InRelease\n",
            "\r0% [Waiting for headers] [Waiting for headers] [Connecting to ppa.launchpad.net\r                                                                               \rGet:3 http://archive.ubuntu.com/ubuntu focal-updates InRelease [114 kB]\n",
            "Get:4 http://security.ubuntu.com/ubuntu focal-security InRelease [114 kB]\n",
            "Hit:5 http://ppa.launchpad.net/c2d4u.team/c2d4u4.0+/ubuntu focal InRelease\n",
            "Get:6 http://archive.ubuntu.com/ubuntu focal-backports InRelease [108 kB]\n",
            "Hit:7 http://ppa.launchpad.net/cran/libgit2/ubuntu focal InRelease\n",
            "Get:8 http://ppa.launchpad.net/deadsnakes/ppa/ubuntu focal InRelease [18.1 kB]\n",
            "Get:9 https://developer.download.nvidia.com/compute/cuda/repos/ubuntu2004/x86_64  InRelease [1,581 B]\n",
            "Get:10 http://ppa.launchpad.net/graphics-drivers/ppa/ubuntu focal InRelease [24.3 kB]\n",
            "Hit:11 http://ppa.launchpad.net/ubuntugis/ppa/ubuntu focal InRelease\n",
            "Get:12 http://archive.ubuntu.com/ubuntu focal-updates/restricted amd64 Packages [2,277 kB]\n",
            "Get:13 http://archive.ubuntu.com/ubuntu focal-updates/main amd64 Packages [3,111 kB]\n",
            "Get:14 http://archive.ubuntu.com/ubuntu focal-updates/universe amd64 Packages [1,329 kB]\n",
            "Get:15 http://archive.ubuntu.com/ubuntu focal-updates/multiverse amd64 Packages [31.2 kB]\n",
            "Get:16 http://security.ubuntu.com/ubuntu focal-security/main amd64 Packages [2,593 kB]\n",
            "Get:17 http://security.ubuntu.com/ubuntu focal-security/universe amd64 Packages [1,029 kB]\n",
            "Get:18 https://developer.download.nvidia.com/compute/cuda/repos/ubuntu2004/x86_64  Packages [975 kB]\n",
            "Get:19 http://ppa.launchpad.net/deadsnakes/ppa/ubuntu focal/main amd64 Packages [29.5 kB]\n",
            "Get:20 http://ppa.launchpad.net/graphics-drivers/ppa/ubuntu focal/main amd64 Packages [46.7 kB]\n",
            "Fetched 11.8 MB in 7s (1,748 kB/s)\n",
            "Reading package lists... Done\n",
            "Reading package lists... Done\n",
            "Building dependency tree       \n",
            "Reading state information... Done\n",
            "The following additional packages will be installed:\n",
            "  libgail-common libgail18 libgtk2.0-0 libgtk2.0-bin libgtk2.0-common\n",
            "  libgvc6-plugins-gtk libxdot4\n",
            "Suggested packages:\n",
            "  gvfs\n",
            "The following NEW packages will be installed:\n",
            "  libgail-common libgail18 libgraphviz-dev libgtk2.0-0 libgtk2.0-bin\n",
            "  libgtk2.0-common libgvc6-plugins-gtk libxdot4\n",
            "0 upgraded, 8 newly installed, 0 to remove and 25 not upgraded.\n",
            "Need to get 2,148 kB of archives.\n",
            "After this operation, 7,427 kB of additional disk space will be used.\n",
            "Get:1 http://archive.ubuntu.com/ubuntu focal/main amd64 libgtk2.0-common all 2.24.32-4ubuntu4 [126 kB]\n",
            "Get:2 http://archive.ubuntu.com/ubuntu focal/main amd64 libgtk2.0-0 amd64 2.24.32-4ubuntu4 [1,791 kB]\n",
            "Get:3 http://archive.ubuntu.com/ubuntu focal/main amd64 libgail18 amd64 2.24.32-4ubuntu4 [14.7 kB]\n",
            "Get:4 http://archive.ubuntu.com/ubuntu focal/main amd64 libgail-common amd64 2.24.32-4ubuntu4 [116 kB]\n",
            "Get:5 http://archive.ubuntu.com/ubuntu focal/universe amd64 libxdot4 amd64 2.42.2-3build2 [15.4 kB]\n",
            "Get:6 http://archive.ubuntu.com/ubuntu focal/universe amd64 libgvc6-plugins-gtk amd64 2.42.2-3build2 [20.6 kB]\n",
            "Get:7 http://archive.ubuntu.com/ubuntu focal/universe amd64 libgraphviz-dev amd64 2.42.2-3build2 [57.2 kB]\n",
            "Get:8 http://archive.ubuntu.com/ubuntu focal/main amd64 libgtk2.0-bin amd64 2.24.32-4ubuntu4 [7,728 B]\n",
            "Fetched 2,148 kB in 0s (6,069 kB/s)\n",
            "Selecting previously unselected package libgtk2.0-common.\n",
            "(Reading database ... 122349 files and directories currently installed.)\n",
            "Preparing to unpack .../0-libgtk2.0-common_2.24.32-4ubuntu4_all.deb ...\n",
            "Unpacking libgtk2.0-common (2.24.32-4ubuntu4) ...\n",
            "Selecting previously unselected package libgtk2.0-0:amd64.\n",
            "Preparing to unpack .../1-libgtk2.0-0_2.24.32-4ubuntu4_amd64.deb ...\n",
            "Unpacking libgtk2.0-0:amd64 (2.24.32-4ubuntu4) ...\n",
            "Selecting previously unselected package libgail18:amd64.\n",
            "Preparing to unpack .../2-libgail18_2.24.32-4ubuntu4_amd64.deb ...\n",
            "Unpacking libgail18:amd64 (2.24.32-4ubuntu4) ...\n",
            "Selecting previously unselected package libgail-common:amd64.\n",
            "Preparing to unpack .../3-libgail-common_2.24.32-4ubuntu4_amd64.deb ...\n",
            "Unpacking libgail-common:amd64 (2.24.32-4ubuntu4) ...\n",
            "Selecting previously unselected package libxdot4:amd64.\n",
            "Preparing to unpack .../4-libxdot4_2.42.2-3build2_amd64.deb ...\n",
            "Unpacking libxdot4:amd64 (2.42.2-3build2) ...\n",
            "Selecting previously unselected package libgvc6-plugins-gtk.\n",
            "Preparing to unpack .../5-libgvc6-plugins-gtk_2.42.2-3build2_amd64.deb ...\n",
            "Unpacking libgvc6-plugins-gtk (2.42.2-3build2) ...\n",
            "Selecting previously unselected package libgraphviz-dev:amd64.\n",
            "Preparing to unpack .../6-libgraphviz-dev_2.42.2-3build2_amd64.deb ...\n",
            "Unpacking libgraphviz-dev:amd64 (2.42.2-3build2) ...\n",
            "Selecting previously unselected package libgtk2.0-bin.\n",
            "Preparing to unpack .../7-libgtk2.0-bin_2.24.32-4ubuntu4_amd64.deb ...\n",
            "Unpacking libgtk2.0-bin (2.24.32-4ubuntu4) ...\n",
            "Setting up libxdot4:amd64 (2.42.2-3build2) ...\n",
            "Setting up libgtk2.0-common (2.24.32-4ubuntu4) ...\n",
            "Setting up libgtk2.0-0:amd64 (2.24.32-4ubuntu4) ...\n",
            "Setting up libgvc6-plugins-gtk (2.42.2-3build2) ...\n",
            "Setting up libgail18:amd64 (2.24.32-4ubuntu4) ...\n",
            "Setting up libgtk2.0-bin (2.24.32-4ubuntu4) ...\n",
            "Setting up libgail-common:amd64 (2.24.32-4ubuntu4) ...\n",
            "Setting up libgraphviz-dev:amd64 (2.42.2-3build2) ...\n",
            "Processing triggers for man-db (2.9.1-1) ...\n",
            "Processing triggers for libc-bin (2.31-0ubuntu9.9) ...\n"
          ]
        }
      ]
    }
  ]
}