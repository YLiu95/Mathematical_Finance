{
  "nbformat": 4,
  "nbformat_minor": 0,
  "metadata": {
    "colab": {
      "provenance": [],
      "toc_visible": true,
      "authorship_tag": "ABX9TyMQHfwyexrOFfnQmSCZccFO",
      "include_colab_link": true
    },
    "kernelspec": {
      "name": "python3",
      "display_name": "Python 3"
    },
    "language_info": {
      "name": "python"
    },
    "gpuClass": "standard"
  },
  "cells": [
    {
      "cell_type": "markdown",
      "metadata": {
        "id": "view-in-github",
        "colab_type": "text"
      },
      "source": [
        "<a href=\"https://colab.research.google.com/github/YLiu95/Quantitative_Finance/blob/main/C%2B%2B_and_financial_engineering.ipynb\" target=\"_parent\"><img src=\"https://colab.research.google.com/assets/colab-badge.svg\" alt=\"Open In Colab\"/></a>"
      ]
    },
    {
      "cell_type": "markdown",
      "source": [
        "# Apply C++ to Financial Engineering"
      ],
      "metadata": {
        "id": "2ZrSW7hp7Cij"
      }
    },
    {
      "cell_type": "markdown",
      "source": [
        ">[Apply C++ to Financial Engineering](#scrollTo=2ZrSW7hp7Cij)\n",
        "\n",
        ">[prepare C++ for colab](#scrollTo=xDHHwOuMfKg7)\n",
        "\n",
        ">[key concepts of C++](#scrollTo=UEkqAT206EVe)\n",
        "\n",
        ">>[class creation](#scrollTo=HxasgryvfSz6)\n",
        "\n",
        ">>>[data encapsulation](#scrollTo=vmLYMs_EEo1l)\n",
        "\n",
        ">>>[class inheritance](#scrollTo=U5NPsi31Qn4C)\n",
        "\n",
        ">>>[polymorphism](#scrollTo=zWnJtfo7YnWn)\n",
        "\n",
        ">>[operator overloading](#scrollTo=UKSWDpGqfQ5m)\n",
        "\n",
        ">>[memory memagement](#scrollTo=8Yz9U9AElNj-)\n",
        "\n",
        ">>[namespaces](#scrollTo=iYX2we3vlRrB)\n",
        "\n",
        ">>[exception handling](#scrollTo=_3ZBYWkwlUgR)\n",
        "\n",
        ">[C++ and financial engineering](#scrollTo=hZ-HSBooIia-)\n",
        "\n",
        ">>[the binomial method](#scrollTo=Aumb3wCXomf4)\n",
        "\n",
        ">>>[tree structure](#scrollTo=bU3TN3b0sNQ7)\n",
        "\n",
        ">>[black scholes model](#scrollTo=bTDrxNa2CUiq)\n",
        "\n",
        ">[end of document](#scrollTo=a1sVHYnOIe75)\n",
        "\n"
      ],
      "metadata": {
        "colab_type": "toc",
        "id": "rT7OF6-N7J-5"
      }
    },
    {
      "cell_type": "markdown",
      "source": [
        "# prepare C++ for colab"
      ],
      "metadata": {
        "id": "xDHHwOuMfKg7"
      }
    },
    {
      "cell_type": "code",
      "source": [
        "!pip install git+https://github.com/andreinechaev/nvcc4jupyter.git"
      ],
      "metadata": {
        "colab": {
          "base_uri": "https://localhost:8080/"
        },
        "id": "Ym3DxvGN71uz",
        "outputId": "f866b16a-243d-4a59-9bc9-a379cd58b39e"
      },
      "execution_count": null,
      "outputs": [
        {
          "output_type": "stream",
          "name": "stdout",
          "text": [
            "Looking in indexes: https://pypi.org/simple, https://us-python.pkg.dev/colab-wheels/public/simple/\n",
            "Collecting git+https://github.com/andreinechaev/nvcc4jupyter.git\n",
            "  Cloning https://github.com/andreinechaev/nvcc4jupyter.git to /tmp/pip-req-build-b2xb77j0\n",
            "  Running command git clone -q https://github.com/andreinechaev/nvcc4jupyter.git /tmp/pip-req-build-b2xb77j0\n"
          ]
        }
      ]
    },
    {
      "cell_type": "code",
      "source": [
        "%load_ext nvcc_plugin"
      ],
      "metadata": {
        "colab": {
          "base_uri": "https://localhost:8080/"
        },
        "id": "NSIBrrpz767u",
        "outputId": "682438b6-71d8-4019-a892-7cb297410f67"
      },
      "execution_count": null,
      "outputs": [
        {
          "output_type": "stream",
          "name": "stdout",
          "text": [
            "The nvcc_plugin extension is already loaded. To reload it, use:\n",
            "  %reload_ext nvcc_plugin\n"
          ]
        }
      ]
    },
    {
      "cell_type": "code",
      "source": [
        "%%cu\n",
        "#include <iostream>\n",
        "    int\n",
        "    main()\n",
        "{\n",
        "    std::cout << \"Welcome To GeeksforGeeks\\n\";\n",
        "    return 0;\n",
        "}"
      ],
      "metadata": {
        "colab": {
          "base_uri": "https://localhost:8080/"
        },
        "id": "CQdJGkYV8AAc",
        "outputId": "12721fde-6749-4007-e373-85467695737b"
      },
      "execution_count": null,
      "outputs": [
        {
          "output_type": "stream",
          "name": "stdout",
          "text": [
            "Welcome To GeeksforGeeks\n",
            "\n"
          ]
        }
      ]
    },
    {
      "cell_type": "code",
      "source": [
        "%%cu\n",
        "#include <iostream>\n",
        "#include <chrono>\n",
        "#include <cmath>\n",
        "\n",
        "int main() {\n",
        "  long long n = std::pow(10, 5);  // Set the value of n\n",
        "  long long sum = 0;  // Initialize the sum to 0\n",
        "  auto start = std::chrono::high_resolution_clock::now();  // Start the timer\n",
        "  for (int i = 1; i <= n; i++) {\n",
        "    sum += i;  // Add i to the sum\n",
        "  }\n",
        "  auto end = std::chrono::high_resolution_clock::now();  // Stop the timer\n",
        "  std::chrono::duration<double> elapsed = end - start;  // Calculate the elapsed time\n",
        "  std::cout << \"Sum of first \" << n << \" natural numbers: \" << sum << std::endl;\n",
        "  std::cout << \"Elapsed time: \" << elapsed.count() << \" seconds\" << std::endl;\n",
        "  return 0;\n",
        "}\n"
      ],
      "metadata": {
        "colab": {
          "base_uri": "https://localhost:8080/"
        },
        "id": "74nQStJt9O77",
        "outputId": "7d1edcd2-38b1-4f88-af17-2dc852e31cb8"
      },
      "execution_count": null,
      "outputs": [
        {
          "output_type": "stream",
          "name": "stdout",
          "text": [
            "Sum of first 100000 natural numbers: 5000050000\n",
            "Elapsed time: 0.000332448 seconds\n",
            "\n"
          ]
        }
      ]
    },
    {
      "cell_type": "code",
      "source": [
        "!apt-get update\n",
        "!apt-get install libgraphviz-dev"
      ],
      "metadata": {
        "id": "G88YeGyFysom",
        "colab": {
          "base_uri": "https://localhost:8080/"
        },
        "outputId": "85571743-d8e8-483b-a7ac-da14b8d3022e"
      },
      "execution_count": null,
      "outputs": [
        {
          "output_type": "stream",
          "name": "stdout",
          "text": [
            "\r0% [Working]\r            \rIgn:1 https://developer.download.nvidia.com/compute/machine-learning/repos/ubuntu1804/x86_64  InRelease\n",
            "\r0% [Connecting to archive.ubuntu.com (185.125.190.39)] [Waiting for headers] [C\r                                                                               \rHit:2 https://developer.download.nvidia.com/compute/cuda/repos/ubuntu1804/x86_64  InRelease\n",
            "\r0% [Connecting to archive.ubuntu.com (185.125.190.39)] [Waiting for headers] [C\r                                                                               \rGet:3 http://security.ubuntu.com/ubuntu bionic-security InRelease [88.7 kB]\n",
            "\r0% [Connecting to archive.ubuntu.com (185.125.190.39)] [3 InRelease 14.2 kB/88.\r0% [2 InRelease gpgv 1,581 B] [Connecting to archive.ubuntu.com (185.125.190.39\r                                                                               \rHit:4 https://cloud.r-project.org/bin/linux/ubuntu bionic-cran40/ InRelease\n",
            "Hit:5 https://developer.download.nvidia.com/compute/machine-learning/repos/ubuntu1804/x86_64  Release\n",
            "Hit:6 http://archive.ubuntu.com/ubuntu bionic InRelease\n",
            "Hit:7 http://ppa.launchpad.net/c2d4u.team/c2d4u4.0+/ubuntu bionic InRelease\n",
            "Get:8 http://archive.ubuntu.com/ubuntu bionic-updates InRelease [88.7 kB]\n",
            "Hit:9 http://ppa.launchpad.net/cran/libgit2/ubuntu bionic InRelease\n",
            "Hit:10 http://ppa.launchpad.net/deadsnakes/ppa/ubuntu bionic InRelease\n",
            "Get:11 http://archive.ubuntu.com/ubuntu bionic-backports InRelease [83.3 kB]\n",
            "Hit:13 http://ppa.launchpad.net/graphics-drivers/ppa/ubuntu bionic InRelease\n",
            "Fetched 261 kB in 3s (76.4 kB/s)\n",
            "Reading package lists... Done\n",
            "Reading package lists... Done\n",
            "Building dependency tree       \n",
            "Reading state information... Done\n",
            "libgraphviz-dev is already the newest version (2.40.1-2).\n",
            "The following package was automatically installed and is no longer required:\n",
            "  libnvidia-common-460\n",
            "Use 'apt autoremove' to remove it.\n",
            "0 upgraded, 0 newly installed, 0 to remove and 20 not upgraded.\n"
          ]
        }
      ]
    },
    {
      "cell_type": "markdown",
      "source": [
        "# key concepts of C++"
      ],
      "metadata": {
        "id": "UEkqAT206EVe"
      }
    },
    {
      "cell_type": "markdown",
      "source": [
        "## class creation"
      ],
      "metadata": {
        "id": "HxasgryvfSz6"
      }
    },
    {
      "cell_type": "markdown",
      "source": [
        "### data encapsulation"
      ],
      "metadata": {
        "id": "vmLYMs_EEo1l"
      }
    },
    {
      "cell_type": "markdown",
      "source": [
        "**what is data encapsulation?**\n",
        "\n",
        "\n",
        "data encapsulation is a programming technique that involves enclosing data within a class and controlling access to it through member functions. This can help to protect the data from accidental or malicious modification, and can make it easier to manage and maintain the code."
      ],
      "metadata": {
        "id": "MBvhhHEyI8JQ"
      }
    },
    {
      "cell_type": "markdown",
      "source": [
        "implement data encapsulation in C++:\n",
        "\n"
      ],
      "metadata": {
        "id": "3OrtW1e4I_QV"
      }
    },
    {
      "cell_type": "code",
      "source": [
        "%%time\n",
        "%%cu\n",
        "#include <iostream>\n",
        "\n",
        "class Point {\n",
        "private:\n",
        "  int x;\n",
        "  int y;\n",
        "\n",
        "public:\n",
        "  void set_x(int value) {\n",
        "    x = value;\n",
        "  }\n",
        "\n",
        "  void set_y(int value) {\n",
        "    y = value;\n",
        "  }\n",
        "\n",
        "  int get_x() const {\n",
        "    return x;\n",
        "  }\n",
        "\n",
        "  int get_y() const {\n",
        "    return y;\n",
        "  }\n",
        "};\n",
        "\n",
        "int main() {\n",
        "  Point p;\n",
        "  p.set_x(10);\n",
        "  p.set_y(20);\n",
        "  std::cout << \"x: \" << p.get_x() << \", y: \" << p.get_y() << std::endl;\n",
        "  return 0;\n",
        "}\n"
      ],
      "metadata": {
        "colab": {
          "base_uri": "https://localhost:8080/"
        },
        "id": "-eJ7clakEseM",
        "outputId": "c015a615-8244-469b-86dc-0ec0771da179"
      },
      "execution_count": null,
      "outputs": [
        {
          "output_type": "stream",
          "name": "stdout",
          "text": [
            "x: 10, y: 20\n",
            "\n",
            "CPU times: user 12.4 ms, sys: 12.9 ms, total: 25.3 ms\n",
            "Wall time: 1.48 s\n"
          ]
        }
      ]
    },
    {
      "cell_type": "markdown",
      "source": [
        "In this implementation, the `Point` class has two private attributes called `x` and `y`, which represent the coordinates of a point in two-dimensional space. The class also has four member functions: `set_x` and `set_y`, which allow the caller to set the values of `x` and `y`, and `get_x` and `get_y`, which allow the caller to retrieve the values of `x` and `y`.\n",
        "\n",
        "The private attributes are only accessible within the class, so the only way to read or modify their values is through the member functions. This means that the data is \"encapsulated\" within the class, and can only be accessed through the interface provided by the member functions."
      ],
      "metadata": {
        "id": "gaChFlWvJC9A"
      }
    },
    {
      "cell_type": "markdown",
      "source": [
        "implement data encapsulation in Python:"
      ],
      "metadata": {
        "id": "Uv-QtmqlyDzI"
      }
    },
    {
      "cell_type": "code",
      "source": [
        "%%time\n",
        "class Point:\n",
        "    def __init__(self, x, y):\n",
        "        self.__x = x\n",
        "        self.__y = y\n",
        "\n",
        "    def set_x(self, value):\n",
        "        self.__x = value\n",
        "\n",
        "    def set_y(self, value):\n",
        "        self.__y = value\n",
        "\n",
        "    def get_x(self):\n",
        "        return self.__x\n",
        "\n",
        "    def get_y(self):\n",
        "        return self.__y\n",
        "\n",
        "p = Point(10, 20)\n",
        "print(f\"x: {p.get_x()}, y: {p.get_y()}\")\n"
      ],
      "metadata": {
        "colab": {
          "base_uri": "https://localhost:8080/"
        },
        "id": "p_oiJQHyEyK4",
        "outputId": "eca5b757-1886-4e92-d259-9beb8e4e82f4"
      },
      "execution_count": null,
      "outputs": [
        {
          "output_type": "stream",
          "name": "stdout",
          "text": [
            "x: 10, y: 20\n",
            "CPU times: user 1.61 ms, sys: 0 ns, total: 1.61 ms\n",
            "Wall time: 1.61 ms\n"
          ]
        }
      ]
    },
    {
      "cell_type": "markdown",
      "source": [
        "In this python implementation, the `Point` class has two private attributes called `_x` and `_y`, which represent the coordinates of a point in two-dimensional space. The class also has four member functions: `set_x` and `set_y`, which allow the caller to set the values of `_x` and `_y`, and `get_x` and `get_y`, which allow the caller to retrieve the values of `_x` and `_y`.\n",
        "\n",
        "The private attributes are only accessible within the class, so the only way to read or modify their values is through the member functions. This means that the data is \"encapsulated\" within the class, and can only be accessed through the interface provided by the member functions.\n",
        "\n",
        "In both C++ and Python, data encapsulation allows you to control access to the data within a class, which can help to protect it from accidental or malicious modification and make the code easier to manage."
      ],
      "metadata": {
        "id": "qPjDehv5JGM8"
      }
    },
    {
      "cell_type": "markdown",
      "source": [
        "### class inheritance"
      ],
      "metadata": {
        "id": "U5NPsi31Qn4C"
      }
    },
    {
      "cell_type": "markdown",
      "source": [
        "**what is class inheritance?**\n",
        "\n",
        "class inheritance is a programming technique that allows you to create a new class that is derived from an existing class, inheriting its attributes and behaviors. This allows you to reuse and extend code from the base class in the derived class."
      ],
      "metadata": {
        "id": "TLhcnTNUXW2s"
      }
    },
    {
      "cell_type": "markdown",
      "source": [
        "implement class inheritance in C++:"
      ],
      "metadata": {
        "id": "FB_uQIczytqw"
      }
    },
    {
      "cell_type": "code",
      "source": [
        "%%time\n",
        "%%cu\n",
        "#include <iostream>\n",
        "\n",
        "class Shape {\n",
        "protected:\n",
        "  int sides;\n",
        "\n",
        "public:\n",
        "  Shape(int sides) : sides(sides) {}\n",
        "\n",
        "  virtual int get_area() const = 0;\n",
        "  int get_sides() const { return sides; }\n",
        "};\n",
        "\n",
        "class Rectangle : public Shape {\n",
        "private:\n",
        "  int width;\n",
        "  int height;\n",
        "\n",
        "public:\n",
        "  Rectangle(int width, int height) : Shape(4), width(width), height(height) {}\n",
        "\n",
        "  int get_area() const override {\n",
        "    return width * height;\n",
        "  }\n",
        "};\n",
        "\n",
        "class Triangle : public Shape {\n",
        "private:\n",
        "  int base;\n",
        "  int height;\n",
        "\n",
        "public:\n",
        "  Triangle(int base, int height) : Shape(3), base(base), height(height) {}\n",
        "\n",
        "  int get_area() const override {\n",
        "    return base * height / 2;\n",
        "  }\n",
        "};\n",
        "\n",
        "int main() {\n",
        "  Shape *shapes[] = { new Rectangle(10, 20), new Triangle(10, 20) };\n",
        "  for (const auto &shape : shapes) {\n",
        "    std::cout << \"area: \" << shape->get_area() << \", sides: \" << shape->get_sides() << std::endl;\n",
        "  }\n",
        "  return 0;\n",
        "}\n"
      ],
      "metadata": {
        "colab": {
          "base_uri": "https://localhost:8080/"
        },
        "id": "Od1q9jBoQqs6",
        "outputId": "0cf39917-2361-4420-8012-93a544398437"
      },
      "execution_count": null,
      "outputs": [
        {
          "output_type": "stream",
          "name": "stdout",
          "text": [
            "area: 200, sides: 4\n",
            "area: 100, sides: 3\n",
            "\n",
            "CPU times: user 15.3 ms, sys: 11.1 ms, total: 26.4 ms\n",
            "Wall time: 1.46 s\n"
          ]
        }
      ]
    },
    {
      "cell_type": "markdown",
      "source": [
        "In this implementation, the `Shape` class represents a geometric shape with a certain number of sides. The class has a protected attribute called `sides` that stores the number of sides, and two member functions: `get_area`, which returns the area of the shape, and `get_sides`, which returns the number of sides. The `get_area` function is marked as virtual, which means that it can be overridden by derived classes.\n",
        "\n",
        "The `Rectangle` and `Triangle` classes are derived from the `Shape` class, and they override the `get_area` function to provide their own implementation based on the width and height of the rectangle or the base and height of the triangle. They also inherit the `get_sides` function from the `Shape` class, which allows them to return the correct number of sides for their respective shapes."
      ],
      "metadata": {
        "id": "CSko6o3KXagN"
      }
    },
    {
      "cell_type": "markdown",
      "source": [
        "### polymorphism"
      ],
      "metadata": {
        "id": "zWnJtfo7YnWn"
      }
    },
    {
      "cell_type": "markdown",
      "source": [
        "**what is polymorphism?**\n",
        "\n",
        "\n",
        "In C++, you can use inheritance and other techniques to achieve polymorphism, which allows you to write code that can be used with multiple types of objects in a flexible way. This can be useful in quantitative finance when you need to create classes that represent different financial instruments or models, and you want to be able to use them in a consistent way."
      ],
      "metadata": {
        "id": "-ZWQMsu0ZB-y"
      }
    },
    {
      "cell_type": "markdown",
      "source": [
        "implement polymorphism in C++:"
      ],
      "metadata": {
        "id": "IVPW-Xb7z6Vi"
      }
    },
    {
      "cell_type": "code",
      "source": [
        "%%cu\n",
        "#include <iostream>\n",
        "\n",
        "// Base class\n",
        "class Shape {\n",
        " public:\n",
        "  virtual double area() const = 0;\n",
        "  virtual double perimeter() const = 0;\n",
        "};\n",
        "\n",
        "// Derived class\n",
        "class Rectangle : public Shape {\n",
        " private:\n",
        "  double width_;\n",
        "  double height_;\n",
        " public:\n",
        "  Rectangle(double width, double height) : width_(width), height_(height) {}\n",
        "  double area() const override { return width_ * height_; }\n",
        "  double perimeter() const override { return 2 * (width_ + height_); }\n",
        "};\n",
        "\n",
        "// Another derived class\n",
        "class Circle : public Shape {\n",
        " private:\n",
        "  double radius_;\n",
        " public:\n",
        "  Circle(double radius) : radius_(radius) {}\n",
        "  double area() const override { return 3.14 * radius_ * radius_; }\n",
        "  double perimeter() const override { return 2 * 3.14 * radius_; }\n",
        "};\n",
        "\n",
        "int main() {\n",
        "  Shape *s1 = new Rectangle(10, 5);\n",
        "  Shape *s2 = new Circle(2);\n",
        "\n",
        "  std::cout << \"Rectangle area: \" << s1->area() << std::endl;\n",
        "  std::cout << \"Circle area: \" << s2->area() << std::endl;\n",
        "\n",
        "  delete s1;\n",
        "  delete s2;\n",
        "  return 0;\n",
        "}\n"
      ],
      "metadata": {
        "colab": {
          "base_uri": "https://localhost:8080/"
        },
        "id": "6WuRnf8tYtPt",
        "outputId": "3da89a52-429e-412e-d46c-006016d3350f"
      },
      "execution_count": null,
      "outputs": [
        {
          "output_type": "stream",
          "name": "stdout",
          "text": [
            "Rectangle area: 50\n",
            "Circle area: 12.56\n",
            "\n"
          ]
        }
      ]
    },
    {
      "cell_type": "markdown",
      "source": [
        "In this implementation, the `Shape` class is the base class and the `Rectangle` and `Circle` classes are derived classes. The `Shape` class has two pure virtual functions, `area` and `perimeter`, which are implemented in the derived classes.\n",
        "\n",
        "The `Rectangle` class has two private member variables, `width_` and `height_`, and the `Circle` class has one private member variable, `radius_`. Both derived classes override the `area` and `perimeter` functions to provide their own implementations.\n",
        "\n",
        "In the main function, we create a `Rectangle` object and a `Circle` object and store their addresses in pointers of type `Shape`. Since `Rectangle` and `Circle` are both derived from `Shape`, we can store their addresses in `Shape` pointers.\n",
        "\n",
        "We then call the `area` function on both objects using the `Shape` pointers. Since the `area` function is virtual in the base class, the correct implementation of the function (either the one in `Rectangle` or the one in `Circle`) is called at runtime depending on the type of the object. This is an example of polymorphism, where a single function call can behave differently depending on the type of the object it is called on.\n",
        "\n",
        "\n",
        "\n"
      ],
      "metadata": {
        "id": "rht6Y79sY9W7"
      }
    },
    {
      "cell_type": "markdown",
      "source": [
        "## operator overloading"
      ],
      "metadata": {
        "id": "UKSWDpGqfQ5m"
      }
    },
    {
      "cell_type": "markdown",
      "source": [
        "**what is operator overloading?**\n",
        "\n",
        "\n",
        "Operator overloading is a feature in C++ that allows you to redefine the meaning of operators such as `+, -, *, /, %, =, ==, !=, <, >, <=, >=` when used with user-defined data types such as classes and structures.\n",
        "\n",
        "When you overload an operator, you provide a new implementation for the operator that is specific to your class or structure. This means that when the overloaded operator is used with an object of your class or structure, it behaves differently than the original operator would.\n",
        "\n",
        "For example, you can overload the `+` operator to concatenate two strings, or to add two numbers together, or to perform any other operation that makes sense for your class or structure.\n",
        "\n",
        "Operator overloading in C++ is achieved by defining a function that has the same name as the operator, but with the keyword `operator` in front of it. The function takes one or more parameters, and it can be a member function of the class or a standalone function."
      ],
      "metadata": {
        "id": "IbW97_SJ0yYD"
      }
    },
    {
      "cell_type": "code",
      "source": [
        "%%cu\n",
        "#include <iostream>\n",
        "#include <cmath>\n",
        "\n",
        "class Price {\n",
        " private:\n",
        "  double value_;  // The value of the price.\n",
        "\n",
        " public:\n",
        "  // Constructor that initializes the value.\n",
        "  Price(double value) : value_(value) {}\n",
        "\n",
        "  // Getter function that returns the value.\n",
        "  double GetValue() const { return value_; }\n",
        "\n",
        "  // Overloaded + operator that performs a time-weighted average of two prices.\n",
        "  Price operator+(const Price& other) const {\n",
        "    return Price((value_ + other.value_) / 2);\n",
        "  }\n",
        "\n",
        "  // Overloaded * operator that multiplies a price by a quantity.\n",
        "  double operator*(double quantity) const {\n",
        "    return value_ * quantity;\n",
        "  }\n",
        "};\n",
        "\n",
        "int main() {\n",
        "  // Create two prices.\n",
        "  Price p1(100);\n",
        "  Price p2(200);\n",
        "\n",
        "  // Perform a time-weighted average of the prices.\n",
        "  Price p3 = p1 + p2;\n",
        "  std::cout << \"Average price: \" << p3.GetValue() << std::endl;\n",
        "\n",
        "  // Multiply a price by a quantity.\n",
        "  double trade_value = p3 * 50;\n",
        "  std::cout << \"Trade value: \" << trade_value << std::endl;\n",
        "\n",
        "  return 0;\n",
        "}\n"
      ],
      "metadata": {
        "id": "hmKq9ez-fkjW",
        "colab": {
          "base_uri": "https://localhost:8080/"
        },
        "outputId": "8165841b-a77d-4757-f981-939bdd2b0385"
      },
      "execution_count": null,
      "outputs": [
        {
          "output_type": "stream",
          "name": "stdout",
          "text": [
            "Average price: 150\n",
            "Trade value: 7500\n",
            "\n"
          ]
        }
      ]
    },
    {
      "cell_type": "markdown",
      "source": [
        "\n",
        "This C++ code implement operator overloading by defining the `Price` class and overloading the `+` and `*` operators for this class.\n",
        "\n",
        "The `Price` class has a private data member called `value_` that represents the value of a price. It has a constructor that takes a `double` value and initializes the `value_` member. It also has a public getter function called `GetValue()` that returns the value of a `Price` object.\n",
        "\n",
        "The `Price` class then overloads the `+` operator using the `operator+` function. The `operator+` function takes a reference to another `Price` object and returns a new `Price` object that represents the time-weighted average of the two prices. This is achieved by adding the values of the two prices and dividing by 2, and then creating a new `Price` object with this value.\n",
        "\n",
        "The Price class also overloads the `*` operator using the `operator*` function. The `operator*` function takes a `double` quantity and returns the product of the value of the `Price` object and the quantity.\n",
        "\n",
        "In the `main` function, two `Price` objects are created, and their time-weighted average is calculated using the overloaded `+` operator. The resulting Price object is then printed using `GetValue()`.\n",
        "\n",
        "The `*` operator is then used to multiply the time-weighted average `Price` object by a quantity, and the resulting value is printed.\n",
        "\n",
        "By overloading the `+` and `*` operators for the `Price` class, the code allows for more intuitive and natural use of these operators with `Price` objects."
      ],
      "metadata": {
        "id": "qsSFFW0s5Fht"
      }
    },
    {
      "cell_type": "markdown",
      "source": [
        "## memory memagement"
      ],
      "metadata": {
        "id": "8Yz9U9AElNj-"
      }
    },
    {
      "cell_type": "markdown",
      "source": [
        "**what is memory leak?**\n",
        "\n",
        "\n",
        "example of memory leak:\n",
        ">look at the RAM bar when running the code"
      ],
      "metadata": {
        "id": "A4iv4OzaRuLG"
      }
    },
    {
      "cell_type": "code",
      "source": [
        "%%cu\n",
        "#include <iostream>\n",
        "#include <string>\n",
        "\n",
        "using namespace std;\n",
        "\n",
        "int main() {\n",
        "  while (true) {\n",
        "    // Allocate memory for a new string\n",
        "    string* s = new string(\"Hello, World!\");\n",
        "    // We forgot to delete the string, so the memory is never freed\n",
        "  }\n",
        "  return 0;\n",
        "}\n"
      ],
      "metadata": {
        "id": "ZoxoaW9plRRw",
        "colab": {
          "base_uri": "https://localhost:8080/"
        },
        "outputId": "7f4e740c-aaa0-4995-8091-65315310bfb9"
      },
      "execution_count": null,
      "outputs": [
        {
          "output_type": "stream",
          "name": "stdout",
          "text": [
            "\n"
          ]
        }
      ]
    },
    {
      "cell_type": "markdown",
      "source": [
        "In this example, the program continually allocates memory for a new string, but it never frees the memory by calling delete. This results in a memory leak, as the program continually consumes more and more memory without ever releasing it."
      ],
      "metadata": {
        "id": "azVu3GbNSPBF"
      }
    },
    {
      "cell_type": "markdown",
      "source": [
        "To fix this memory leak, we would need to add a delete statement to free the memory when it is no longer needed:\n",
        "> it runs forever"
      ],
      "metadata": {
        "id": "A0cSYZqESQuu"
      }
    },
    {
      "cell_type": "code",
      "source": [
        "%%cu\n",
        "#include <iostream>\n",
        "#include <string>\n",
        "\n",
        "using namespace std;\n",
        "\n",
        "int main() {\n",
        "  while (true) {\n",
        "    // Allocate memory for a new string\n",
        "    string* s = new string(\"Hello, World!\");\n",
        "    // Do something with the string\n",
        "    cout << *s << endl;\n",
        "    // Free the memory when we're done with the string\n",
        "    delete s;\n",
        "  }\n",
        "  return 0;\n",
        "}\n"
      ],
      "metadata": {
        "id": "YSOrTjaBSSd0"
      },
      "execution_count": null,
      "outputs": []
    },
    {
      "cell_type": "markdown",
      "source": [
        "** what is segmentation fault?**\n",
        " \n",
        " example of segmentation fault:"
      ],
      "metadata": {
        "id": "X7ZL6HiFTNh-"
      }
    },
    {
      "cell_type": "markdown",
      "source": [
        "In this example, the program attempts to access the element at index 0 of an uninitialized pointer array. This results in a segmentation fault, as the program is trying to access memory that it is not allowed to access.\n",
        "\n"
      ],
      "metadata": {
        "id": "y1Cr4th4TcKE"
      }
    },
    {
      "cell_type": "code",
      "source": [
        "%%cu\n",
        "#include <iostream>\n",
        "\n",
        "int main() {\n",
        "  int* array = NULL;\n",
        "  // Attempt to access an element of the array\n",
        "  std::cout << array[0] << std::endl;\n",
        "  return 0;\n",
        "}\n"
      ],
      "metadata": {
        "colab": {
          "base_uri": "https://localhost:8080/"
        },
        "id": "eWEA5Or9TQxt",
        "outputId": "97312ab0-655a-4541-e576-61ca5e4cbe91"
      },
      "execution_count": null,
      "outputs": [
        {
          "output_type": "stream",
          "name": "stdout",
          "text": [
            "\n"
          ]
        }
      ]
    },
    {
      "cell_type": "markdown",
      "source": [
        "Another common cause of segmentation faults is dereferencing a null pointer:\n",
        "\n"
      ],
      "metadata": {
        "id": "G1cb2nElTdjk"
      }
    },
    {
      "cell_type": "code",
      "source": [
        "%%cu\n",
        "#include <iostream>\n",
        "\n",
        "int main() {\n",
        "  int* ptr = NULL;\n",
        "  // Attempt to dereference the null pointer\n",
        "  *ptr = 42;\n",
        "  return 0;\n",
        "}\n"
      ],
      "metadata": {
        "colab": {
          "base_uri": "https://localhost:8080/"
        },
        "id": "KKxWbCYhTYA6",
        "outputId": "9b6bf857-4053-4a97-daa6-a2f347ab8a8a"
      },
      "execution_count": null,
      "outputs": [
        {
          "output_type": "stream",
          "name": "stdout",
          "text": [
            "\n"
          ]
        }
      ]
    },
    {
      "cell_type": "markdown",
      "source": [
        "In this example, the program attempts to dereference the null pointer ptr, which also results in a segmentation fault.\n",
        "\n",
        "To avoid segmentation faults, you should ensure that pointers are initialized to valid memory locations before dereferencing them and that you do not try to access memory that you are not allowed to access."
      ],
      "metadata": {
        "id": "kxICaswHTjjs"
      }
    },
    {
      "cell_type": "markdown",
      "source": [
        "implement memory management:"
      ],
      "metadata": {
        "id": "8dN4GrqqT1qB"
      }
    },
    {
      "cell_type": "code",
      "source": [
        "%%cu\n",
        "#include <iostream>\n",
        "\n",
        "int main() {\n",
        "  // Allocate memory for an array of 100 integers\n",
        "  int* data = new int[100];\n",
        "\n",
        "  // Initialize the array with some values\n",
        "  for (int i = 0; i < 100; i++) {\n",
        "    data[i] = i;\n",
        "  }\n",
        "\n",
        "  // Do some calculations with the data\n",
        "  double sum = 0;\n",
        "  for (int i = 0; i < 100; i++) {\n",
        "    sum += data[i];\n",
        "  }\n",
        "  std::cout << \"Sum: \" << sum << std::endl;\n",
        "\n",
        "  // Deallocate the memory\n",
        "  delete[] data;\n",
        "\n",
        "  return 0;\n",
        "}\n"
      ],
      "metadata": {
        "colab": {
          "base_uri": "https://localhost:8080/"
        },
        "id": "umubLL37T5rF",
        "outputId": "15cd06ac-3e87-4221-9ffd-43b6fad8fd7d"
      },
      "execution_count": null,
      "outputs": [
        {
          "output_type": "stream",
          "name": "stdout",
          "text": [
            "Sum: 4950\n",
            "\n"
          ]
        }
      ]
    },
    {
      "cell_type": "markdown",
      "source": [
        "In this implementation, we use the new operator to dynamically allocate memory for an array of 100 integers. We then initialize the array with some values and perform some calculations with the data. After we are done with the data, we use the `delete[]` operator to deallocate the memory that was previously allocated with new.\n",
        "\n",
        "Proper memory management is important in this implementation because we are responsible for allocating and deallocating the memory ourselves. If we fail to deallocate the memory after we are finished with it, we could potentially run into issues such as memory leaks or segmentation faults. By using new and delete appropriately, we can ensure that our application uses memory efficiently and runs smoothly."
      ],
      "metadata": {
        "id": "HzuJVNL3UGuU"
      }
    },
    {
      "cell_type": "markdown",
      "source": [
        "## namespaces"
      ],
      "metadata": {
        "id": "iYX2we3vlRrB"
      }
    },
    {
      "cell_type": "markdown",
      "source": [
        "**what is a namespace?**\n",
        "\n",
        "In C++, a namespace is a container that holds a set of identifiers (e.g. functions, variables, classes, etc.). Namespaces are used to organize and group related identifiers and to avoid naming conflicts between different identifiers that may have the same name.\n",
        "\n",
        "Namespaces are important in quantitative finance applications because they can help to avoid naming conflicts and improve the organization and readability of the code. In quantitative finance applications, it is common to use many different libraries and frameworks that may define their own identifiers. By using namespaces, it is possible to clearly differentiate between the identifiers defined by different libraries and frameworks, and to avoid any conflicts that may arise from having multiple identifiers with the same name."
      ],
      "metadata": {
        "id": "7O8wei0zVU-c"
      }
    },
    {
      "cell_type": "markdown",
      "source": [
        "implement namespaces in C++:"
      ],
      "metadata": {
        "id": "yxC5yXUr6knT"
      }
    },
    {
      "cell_type": "code",
      "source": [
        "%%cu\n",
        "#include <iostream>\n",
        "\n",
        "// Define a namespace \"math\"\n",
        "namespace math {\n",
        "  double pi = 3.14159;\n",
        "\n",
        "  double add(double a, double b) {\n",
        "    return a + b;\n",
        "  }\n",
        "}\n",
        "\n",
        "int main() {\n",
        "  // Use the identifiers from the \"math\" namespace\n",
        "  std::cout << \"pi = \" << math::pi << std::endl;\n",
        "  std::cout << \"2 + 3 = \" << math::add(2, 3) << std::endl;\n",
        "\n",
        "  return 0;\n",
        "}\n"
      ],
      "metadata": {
        "id": "V3DObBj9lT1k",
        "colab": {
          "base_uri": "https://localhost:8080/"
        },
        "outputId": "58ec1c8f-91cc-4511-8c62-bab8b6a8820d"
      },
      "execution_count": null,
      "outputs": [
        {
          "output_type": "stream",
          "name": "stdout",
          "text": [
            "pi = 3.14159\n",
            "2 + 3 = 5\n",
            "\n"
          ]
        }
      ]
    },
    {
      "cell_type": "markdown",
      "source": [
        "In this example, we define a namespace \"math\" that contains the identifier `pi` and the function add. We can access these identifiers by using the namespace name as a prefix (e.g. `math::pi`). This allows us to clearly differentiate between these identifiers and any other identifiers that may have the same name.\n",
        "\n",
        "Overall, namespaces are an important tool in C++ for organizing and avoiding naming conflicts in quantitative finance applications, and they can help to improve the readability and maintainability of the code."
      ],
      "metadata": {
        "id": "MHdI70NsVY7A"
      }
    },
    {
      "cell_type": "markdown",
      "source": [
        "## exception handling"
      ],
      "metadata": {
        "id": "_3ZBYWkwlUgR"
      }
    },
    {
      "cell_type": "markdown",
      "source": [
        "**what is exception handling?**\n",
        "\n",
        "Exception handling is a mechanism in C++ (and other programming languages) that allows a program to handle runtime errors or exceptional conditions in a structured and predictable way. Exception handling is important to quantitative finance applications because it can help to improve the reliability and robustness of the software.\n",
        "\n",
        "In C++, exception handling is implemented using the try and catch statements. The try block encloses a block of code that may throw an exception, and the catch block handles the exception if it is thrown."
      ],
      "metadata": {
        "id": "HxSu2S_6WJ4a"
      }
    },
    {
      "cell_type": "markdown",
      "source": [
        "implement exception handling:"
      ],
      "metadata": {
        "id": "txNDqBEO61l4"
      }
    },
    {
      "cell_type": "code",
      "source": [
        "%%cu\n",
        "#include <iostream>\n",
        "#include <stdexcept>\n",
        "\n",
        "int main() {\n",
        "  try {\n",
        "    // Code that may throw an exception\n",
        "    int a = 5;\n",
        "    int b = 0;\n",
        "    if (b == 0) {\n",
        "      throw std::runtime_error(\"Division by zero\");\n",
        "    }\n",
        "    int c = a / b;\n",
        "    std::cout << \"c = \" << c << std::endl;\n",
        "  } catch (const std::runtime_error& e) {\n",
        "    // Exception handling code\n",
        "    std::cerr << \"Error: \" << e.what() << std::endl;\n",
        "  }\n",
        "\n",
        "  return 0;\n",
        "}\n"
      ],
      "metadata": {
        "id": "I20IPRnClW4Y",
        "colab": {
          "base_uri": "https://localhost:8080/"
        },
        "outputId": "19291fb7-453c-4b4e-8db9-2e164cf25d7b"
      },
      "execution_count": null,
      "outputs": [
        {
          "output_type": "stream",
          "name": "stdout",
          "text": [
            "Error: Division by zero\n",
            "\n"
          ]
        }
      ]
    },
    {
      "cell_type": "markdown",
      "source": [
        "In this implementation, we use a `try` block to enclose a block of code that may throw a `std::runtime_error` exception if the division by zero is attempted. If the exception is thrown, it is caught by the `catch` block, which prints an error message to the standard error stream.\n",
        "\n",
        "Exception handling is important in quantitative finance applications because it allows the program to handle exceptional conditions in a controlled and predictable way, rather than crashing or producing undefined results. This can help to improve the reliability and robustness of the software, and to ensure that it continues to function correctly even in the presence of errors or exceptional conditions."
      ],
      "metadata": {
        "id": "My2Mi4W1WOBf"
      }
    },
    {
      "cell_type": "markdown",
      "source": [
        "# C++ and financial engineering"
      ],
      "metadata": {
        "id": "hZ-HSBooIia-"
      }
    },
    {
      "cell_type": "markdown",
      "source": [
        "## the binomial method "
      ],
      "metadata": {
        "id": "Aumb3wCXomf4"
      }
    },
    {
      "cell_type": "markdown",
      "source": [
        "To design and implement a set of C++ classes for pricing options using the binomial method, we follow the following steps:\n",
        "\n",
        "1. Understand the principles of the binomial method for pricing options. This involves understanding how to model the underlying asset's price movement using a tree structure, and how to use the tree to calculate the option's value at different points in time.\n",
        "\n",
        "2. Determine the data structures and algorithms you will need to implement the binomial method in C++. This may involve deciding on a suitable representation for the tree structure, as well as defining the functions and methods that will be used to build, traverse, and manipulate the tree.\n",
        "\n",
        "3. Design the C++ classes that will make up your option pricing system. This may involve deciding on the responsibilities of each class, as well as the relationships between them. You may find it helpful to use UML diagrams or other visual tools to document your design.\n",
        "\n",
        "4. Implement the classes according to your design. This will involve writing the code for each class's methods and functions, as well as any supporting functions or data structures you may need.\n",
        "\n",
        "5. Test your implementation to ensure it is correct and performs well. This may involve writing unit tests for each class and function, as well as testing the system as a whole using a range of test cases.\n",
        "\n",
        "6. Document your code and make it easy to maintain and understand. This may involve adding comments to explain the purpose and operation of each class and function, as well as organizing the code in a logical and consistent way."
      ],
      "metadata": {
        "id": "SNdEXfooot5y"
      }
    },
    {
      "cell_type": "markdown",
      "source": [
        "C++ implementation:"
      ],
      "metadata": {
        "id": "v-fV5sAO7_-t"
      }
    },
    {
      "cell_type": "code",
      "source": [
        "%%cu\n",
        "#include <iostream>\n",
        "#include <vector>\n",
        "\n",
        "// Define a class to represent a node in the tree\n",
        "class Node {\n",
        "public:\n",
        "  // Constructor\n",
        "  Node(double price, double time, double interest) : price(price), time(time), interest(interest) {}\n",
        "\n",
        "  // Member variables to hold the price, time, and interest rate\n",
        "  double price;\n",
        "  double time;\n",
        "  double interest;\n",
        "\n",
        "  // Pointers to the node's children\n",
        "  std::vector<Node*> children;\n",
        "\n",
        "  // Option price at this node\n",
        "  double optionPrice;\n",
        "};\n",
        "\n",
        "// Build the tree using the binomial model\n",
        "void buildTree(Node* root, int numPeriods, double sigma, double u, double d) {\n",
        "  // Base case: if the root node is a leaf, return\n",
        "  if (root->time == numPeriods) {\n",
        "    return;\n",
        "  }\n",
        "\n",
        "  // Otherwise, create the children nodes\n",
        "  double priceU = root->price * u;\n",
        "  double priceD = root->price * d;\n",
        "  double time = root->time + 1;\n",
        "  double interest = root->interest;\n",
        "\n",
        "  root->children.push_back(new Node(priceU, time, interest));\n",
        "  root->children.push_back(new Node(priceD, time, interest));\n",
        "\n",
        "  // Recurse on the children nodes\n",
        "  buildTree(root->children[0], numPeriods, sigma, u, d);\n",
        "  buildTree(root->children[1], numPeriods, sigma, u, d);\n",
        "}\n",
        "\n",
        "// Calculate the option price using the backward induction step\n",
        "double priceOption(Node* root, double strike, double p) {\n",
        "  // Base case: if the root node is a leaf, return the option's payoff\n",
        "  if (root->time == 0) {\n",
        "    return root->price > strike ? root->price - strike : 0;\n",
        "  }\n",
        "\n",
        "  // Otherwise, calculate the option price at the children nodes\n",
        "  root->children[0]->optionPrice = priceOption(root->children[0], strike, p);\n",
        "  root->children[1]->optionPrice = priceOption(root->children[1], strike, p);\n",
        "\n",
        "  // Use the option prices at the children nodes to calculate the option price at the root node\n",
        "  double disc = 1 / (1 + root->interest);\n",
        "  root->optionPrice = (p * root->children[0]->optionPrice + (1 - p) * root->children[1]->optionPrice) * disc;\n",
        "\n",
        "  return root->optionPrice;\n",
        "}\n",
        "\n",
        "int main() {\n",
        "  // Build a tree for an asset with initial price 100, 5 time periods, and interest rate 0.1\n",
        "  Node* root = new Node(100, 0, 0.1);\n",
        "  buildTree(root, 5, 0.2, 1.1, 0.9);\n",
        "\n",
        "  // Calculate the price of a call option with strike price 95\n",
        "  double optionPrice = priceOption(root, 95, 0.5);\n",
        "  std::cout << \"Option price: \" << optionPrice << std::endl;\n",
        "\n",
        "  return 0;\n",
        "}\n"
      ],
      "metadata": {
        "colab": {
          "base_uri": "https://localhost:8080/"
        },
        "id": "Gd6Cwz8-v-1O",
        "outputId": "544bf619-9648-45e2-ee0c-fbee5d850be6"
      },
      "execution_count": null,
      "outputs": [
        {
          "output_type": "stream",
          "name": "stdout",
          "text": [
            "Option price: 5\n",
            "\n"
          ]
        }
      ]
    },
    {
      "cell_type": "markdown",
      "source": [
        "The `Node` class represents a node in the tree, and has member variables to hold the asset's price, time period, and risk-free interest rate at that point in time. It also has pointers to the node's children and a member variable `optionPrice` to hold the option's price at that node.\n",
        "\n",
        "The `buildTree` function builds the tree using the binomial model. It takes as input the root node, the number of time periods, and the volatility and up/down factors for the asset. It creates children nodes for the root node using the up and down factors, and then recursively builds the tree using these children as the root nodes.\n",
        "\n",
        "The `priceOption` function calculates the option price using the backward induction step. It takes as input the root node, the strike price of the option, and the probability of the asset's price going up. It first calculates the option prices at the children nodes by recursively calling itself on the children nodes. Then it uses the option prices at the children nodes to calculate the option price at the root node using the formula:\n",
        "\n",
        "```\n",
        "optionPrice = (p * optionPrice[up] + (1 - p) * optionPrice[down]) / (1 + interest)\n",
        "```\n",
        "\n",
        "where `p` is the probability of the asset's price going up, `interest` is the risk-free interest rate, and `optionPrice[up]` and `optionPrice[down]` are the option prices at the children nodes corresponding to the asset's price going up or down. The function returns the option price at the root node.\n",
        "\n",
        "Finally, in the main function, we build the tree using the `buildTree` function and then use the `priceOptio` function to calculate the option price. The option price is then printed to the console."
      ],
      "metadata": {
        "id": "pzgEiYYJwnoL"
      }
    },
    {
      "cell_type": "markdown",
      "source": [
        "### tree structure\n",
        "model asset price movement using tree structure in Python:"
      ],
      "metadata": {
        "id": "bU3TN3b0sNQ7"
      }
    },
    {
      "cell_type": "code",
      "source": [
        "class AssetNode:\n",
        "    def __init__(self, price, prob):\n",
        "        self.price = price\n",
        "        self.prob = prob\n",
        "        self.children = []\n",
        "    \n",
        "    def add_child(self, node):\n",
        "        self.children.append(node)\n",
        "\n",
        "def build_tree(depth, node):\n",
        "    if depth == 0:\n",
        "        return\n",
        "    \n",
        "    # Calculate the price and probability for the up and down nodes\n",
        "    up_price = node.price * 1.1\n",
        "    up_prob = node.prob * 0.8\n",
        "    down_price = node.price * 0.9\n",
        "    down_prob = node.prob * 0.2\n",
        "    \n",
        "    # Create up and down nodes\n",
        "    up_node = AssetNode(up_price, up_prob)\n",
        "    down_node = AssetNode(down_price, down_prob)\n",
        "    \n",
        "    # Add the up and down nodes as children of the current node\n",
        "    node.add_child(up_node)\n",
        "    node.add_child(down_node)\n",
        "    \n",
        "    # Recursively build the tree for the up and down nodes\n",
        "    build_tree(depth-1, up_node)\n",
        "    build_tree(depth-1, down_node)\n",
        "\n",
        "# Create the root node with an initial price of 100 and probability of 1.0\n",
        "root_node = AssetNode(100, 1.0)\n",
        "\n",
        "# Build the tree with a depth of 3\n",
        "build_tree(3, root_node)\n",
        "\n",
        "# You can now traverse the tree to calculate the expected price of the asset at each node\n"
      ],
      "metadata": {
        "id": "obZ8Qft5rF4A"
      },
      "execution_count": null,
      "outputs": []
    },
    {
      "cell_type": "markdown",
      "source": [
        "visualise the tree structure"
      ],
      "metadata": {
        "id": "kb7encQx9Dt9"
      }
    },
    {
      "cell_type": "code",
      "source": [
        "import networkx as nx\n",
        "import matplotlib.pyplot as plt\n",
        "\n",
        "# Create an empty graph\n",
        "G = nx.Graph()\n",
        "\n",
        "# Recursively add nodes and edges to the graph\n",
        "def add_to_graph(node):\n",
        "    G.add_node(node.price)\n",
        "    for child in node.children:\n",
        "        G.add_edge(node.price, child.price)\n",
        "        add_to_graph(child)\n",
        "\n",
        "add_to_graph(root_node)\n",
        "\n",
        "# Draw the graph\n",
        "pos = nx.spring_layout(G)\n",
        "nx.draw(G, pos, with_labels=True)\n",
        "plt.show()\n"
      ],
      "metadata": {
        "colab": {
          "base_uri": "https://localhost:8080/",
          "height": 319
        },
        "id": "scWeHBrCrKpn",
        "outputId": "83753d24-8612-4a88-caed-408ef08bf27a"
      },
      "execution_count": null,
      "outputs": [
        {
          "output_type": "display_data",
          "data": {
            "text/plain": [
              "<Figure size 432x288 with 1 Axes>"
            ],
            "image/png": "[encoded data removed]"
          },
          "metadata": {}
        }
      ]
    },
    {
      "cell_type": "markdown",
      "source": [
        "The output chart shows the tree structure that represents the price movement of the asset. Each node in the tree represents a possible price for the asset at a given point in time. The edges between the nodes represent the transitions between the different prices.\n",
        "\n",
        "The root node represents the initial price of the asset. The children of the root node represent the possible prices that the asset can take on at the next time step, based on the probabilities specified in the AssetNode class. The children of these nodes represent the possible prices at the next time step, and so on.\n",
        "\n",
        "For example, if the initial price of the asset is 100, and the probabilities of the asset going up or down are 0.8 and 0.2, respectively, then the up and down children of the root node will represent the prices 110 and 90, respectively, at the next time step. The children of these nodes will represent the prices at the following time step, and so on.\n",
        "\n",
        "The graph visualizes the tree structure and allows you to see the different possible paths that the asset price can take over time."
      ],
      "metadata": {
        "id": "S2dgCT8nsG26"
      }
    },
    {
      "cell_type": "code",
      "source": [
        "def calculate_option_value(node, option_type, strike_price, time_to_expiry, discount_factor, values):\n",
        "    # Calculate the option value at the current node\n",
        "    if option_type == \"call\":\n",
        "        option_value = max(node.price - strike_price, 0)\n",
        "    elif option_type == \"put\":\n",
        "        option_value = max(strike_price - node.price, 0)\n",
        "    \n",
        "    # Add the option value to the list\n",
        "    values.append(option_value)\n",
        "    \n",
        "    # If the current node is a leaf node (i.e., no children), return the option value\n",
        "    if len(node.children) == 0:\n",
        "        return option_value\n",
        "    \n",
        "    # Otherwise, calculate the expected option value at the next time step\n",
        "    expected_option_value = 0\n",
        "    for child in node.children:\n",
        "        expected_option_value += calculate_option_value(child, option_type, strike_price, time_to_expiry, discount_factor, values) * child.prob\n",
        "    \n",
        "    # Return the discounted expected option value\n",
        "    return discount_factor * expected_option_value\n",
        "\n",
        "# Initialize an empty list to store the option values\n",
        "values = []\n",
        "\n",
        "# Calculate the option value at the root node\n",
        "option_value = calculate_option_value(root_node, \"call\", 110, 1, 0.9, values)\n",
        "\n",
        "print(f\"Option value: {option_value:.2f}\")\n",
        "\n",
        "\n",
        "# Plot the option values over time\n",
        "plt.plot(values)\n",
        "plt.xlabel(\"Time\")\n",
        "plt.ylabel(\"Option Value\")\n",
        "plt.show()\n"
      ],
      "metadata": {
        "colab": {
          "base_uri": "https://localhost:8080/",
          "height": 296
        },
        "id": "ZPBGm3u7urJR",
        "outputId": "ca561d41-7d35-41d4-eac6-89e0a588ce71"
      },
      "execution_count": null,
      "outputs": [
        {
          "output_type": "stream",
          "name": "stdout",
          "text": [
            "Option value: 4.41\n"
          ]
        },
        {
          "output_type": "display_data",
          "data": {
            "text/plain": [
              "<Figure size 432x288 with 1 Axes>"
            ],
            "image/png": "[encoded data removed]"
          },
          "metadata": {
            "needs_background": "light"
          }
        }
      ]
    },
    {
      "cell_type": "markdown",
      "source": [
        "## black scholes model"
      ],
      "metadata": {
        "id": "bTDrxNa2CUiq"
      }
    },
    {
      "cell_type": "code",
      "source": [
        "%%cu\n",
        "#include <iostream>\n",
        "#include <cmath>\n",
        "#include <boost/math/distributions/normal.hpp>\n",
        "\n",
        "\n",
        "// Black-Scholes formula for pricing European call options\n",
        "double blackScholes(double S, double K, double r, double sigma, double T) {\n",
        "  double d1 = (log(S / K) + (r + sigma * sigma / 2) * T) / (sigma * sqrt(T));\n",
        "  double d2 = d1 - sigma * sqrt(T);\n",
        "  boost::math::normal_distribution<double> normal;\n",
        "  return S * boost::math::cdf(normal, d1) - K * exp(-r * T) * boost::math::cdf(normal, d2);\n",
        "}\n",
        "\n",
        "int main() {\n",
        "  double S = 100;   // underlying asset price\n",
        "  double K = 105;   // strike price\n",
        "  double r = 0.05;  // risk-free interest rate\n",
        "  double sigma = 0.2; // volatility\n",
        "  double T = 1;     // time to expiration (in years)\n",
        "\n",
        "  double callPrice = blackScholes(S, K, r, sigma, T);\n",
        "  std::cout << \"Call price: \" << callPrice << std::endl;\n",
        "\n",
        "  return 0;\n",
        "}\n"
      ],
      "metadata": {
        "colab": {
          "base_uri": "https://localhost:8080/"
        },
        "id": "6I8wObcnb2L6",
        "outputId": "8c106f2a-94c9-4aa9-d55c-0138693a2159"
      },
      "execution_count": null,
      "outputs": [
        {
          "output_type": "stream",
          "name": "stdout",
          "text": [
            "Call price: 8.02135\n",
            "\n"
          ]
        }
      ]
    },
    {
      "cell_type": "markdown",
      "source": [
        "# end of document"
      ],
      "metadata": {
        "id": "a1sVHYnOIe75"
      }
    }
  ]
}