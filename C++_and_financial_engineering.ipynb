{
  "nbformat": 4,
  "nbformat_minor": 0,
  "metadata": {
    "colab": {
      "provenance": [],
      "toc_visible": true,
      "authorship_tag": "ABX9TyOxB6EL96CEpkY3gf5q2z6J",
      "include_colab_link": true
    },
    "kernelspec": {
      "name": "python3",
      "display_name": "Python 3"
    },
    "language_info": {
      "name": "python"
    },
    "gpuClass": "standard"
  },
  "cells": [
    {
      "cell_type": "markdown",
      "metadata": {
        "id": "view-in-github",
        "colab_type": "text"
      },
      "source": [
        "<a href=\"https://colab.research.google.com/github/YLiu95/Quantitative_Finance/blob/main/C%2B%2B_and_financial_engineering.ipynb\" target=\"_parent\"><img src=\"https://colab.research.google.com/assets/colab-badge.svg\" alt=\"Open In Colab\"/></a>"
      ]
    },
    {
      "cell_type": "markdown",
      "source": [
        "# Apply C++ to Financial Engineering"
      ],
      "metadata": {
        "id": "2ZrSW7hp7Cij"
      }
    },
    {
      "cell_type": "markdown",
      "source": [
        "table of contents:"
      ],
      "metadata": {
        "id": "kWt5h4NSqylA"
      }
    },
    {
      "cell_type": "markdown",
      "source": [
        ">[key concepts of C++](#scrollTo=UEkqAT206EVe)\n",
        "\n",
        ">>[data encapsulation](#scrollTo=vmLYMs_EEo1l)\n",
        "\n",
        ">>[class inheritance](#scrollTo=U5NPsi31Qn4C)\n",
        "\n",
        ">>[polymorphism](#scrollTo=zWnJtfo7YnWn)\n",
        "\n",
        ">>[operator overloading](#scrollTo=UKSWDpGqfQ5m)\n",
        "\n",
        ">>[memory memagement](#scrollTo=8Yz9U9AElNj-)\n",
        "\n",
        ">>[namespaces](#scrollTo=iYX2we3vlRrB)\n",
        "\n",
        ">>[exception handling](#scrollTo=_3ZBYWkwlUgR)\n",
        "\n",
        ">[C++ and financial engineering](#scrollTo=hZ-HSBooIia-)\n",
        "\n",
        ">>[the binomial method](#scrollTo=Aumb3wCXomf4)\n",
        "\n",
        ">>[Black-Scholes model](#scrollTo=bTDrxNa2CUiq)\n",
        "\n",
        ">[end of document](#scrollTo=a1sVHYnOIe75)\n",
        "\n"
      ],
      "metadata": {
        "colab_type": "toc",
        "id": "rT7OF6-N7J-5"
      }
    },
    {
      "cell_type": "markdown",
      "source": [
        "# key concepts of C++"
      ],
      "metadata": {
        "id": "UEkqAT206EVe"
      }
    },
    {
      "cell_type": "markdown",
      "source": [
        "## data encapsulation"
      ],
      "metadata": {
        "id": "vmLYMs_EEo1l"
      }
    },
    {
      "cell_type": "markdown",
      "source": [
        "**what is data encapsulation?**\n",
        "\n",
        "\n",
        "data encapsulation is a programming technique that involves enclosing data within a class and controlling access to it through member functions. This can help to protect the data from accidental or malicious modification, and can make it easier to manage and maintain the code."
      ],
      "metadata": {
        "id": "MBvhhHEyI8JQ"
      }
    },
    {
      "cell_type": "markdown",
      "source": [
        "implement data encapsulation in C++:\n",
        "\n"
      ],
      "metadata": {
        "id": "3OrtW1e4I_QV"
      }
    },
    {
      "cell_type": "code",
      "source": [
        "%%time\n",
        "%%cu\n",
        "#include <iostream>\n",
        "\n",
        "class Point {\n",
        "private:\n",
        "  int x;\n",
        "  int y;\n",
        "\n",
        "public:\n",
        "  void set_x(int value) {\n",
        "    x = value;\n",
        "  }\n",
        "\n",
        "  void set_y(int value) {\n",
        "    y = value;\n",
        "  }\n",
        "\n",
        "  int get_x() const {\n",
        "    return x;\n",
        "  }\n",
        "\n",
        "  int get_y() const {\n",
        "    return y;\n",
        "  }\n",
        "};\n",
        "\n",
        "int main() {\n",
        "  Point p;\n",
        "  p.set_x(10);\n",
        "  p.set_y(20);\n",
        "  std::cout << \"x: \" << p.get_x() << \", y: \" << p.get_y() << std::endl;\n",
        "  return 0;\n",
        "}\n"
      ],
      "metadata": {
        "colab": {
          "base_uri": "https://localhost:8080/"
        },
        "id": "-eJ7clakEseM",
        "outputId": "750c3294-953a-4404-8cf5-9693e155141a"
      },
      "execution_count": 8,
      "outputs": [
        {
          "output_type": "stream",
          "name": "stdout",
          "text": [
            "x: 10, y: 20\n",
            "\n",
            "CPU times: user 9.42 ms, sys: 6.86 ms, total: 16.3 ms\n",
            "Wall time: 1.46 s\n"
          ]
        }
      ]
    },
    {
      "cell_type": "markdown",
      "source": [
        "In this implementation, the `Point` class has two private attributes called `x` and `y`, which represent the coordinates of a point in two-dimensional space. The class also has four member functions: `set_x` and `set_y`, which allow the caller to set the values of `x` and `y`, and `get_x` and `get_y`, which allow the caller to retrieve the values of `x` and `y`.\n",
        "\n",
        "The private attributes are only accessible within the class, so the only way to read or modify their values is through the member functions. This means that the data is \"encapsulated\" within the class, and can only be accessed through the interface provided by the member functions."
      ],
      "metadata": {
        "id": "gaChFlWvJC9A"
      }
    },
    {
      "cell_type": "markdown",
      "source": [
        "## class inheritance"
      ],
      "metadata": {
        "id": "U5NPsi31Qn4C"
      }
    },
    {
      "cell_type": "markdown",
      "source": [
        "**what is class inheritance?**\n",
        "\n",
        "class inheritance is a programming technique that allows you to create a new class that is derived from an existing class, inheriting its attributes and behaviors. This allows you to reuse and extend code from the base class in the derived class."
      ],
      "metadata": {
        "id": "TLhcnTNUXW2s"
      }
    },
    {
      "cell_type": "markdown",
      "source": [
        "implement class inheritance in C++:"
      ],
      "metadata": {
        "id": "FB_uQIczytqw"
      }
    },
    {
      "cell_type": "code",
      "source": [
        "%%time\n",
        "%%cu\n",
        "#include <iostream>\n",
        "\n",
        "class Shape {\n",
        "protected:\n",
        "  int sides;\n",
        "\n",
        "public:\n",
        "  Shape(int sides) : sides(sides) {}\n",
        "\n",
        "  virtual int get_area() const = 0;\n",
        "  int get_sides() const { return sides; }\n",
        "};\n",
        "\n",
        "class Rectangle : public Shape {\n",
        "private:\n",
        "  int width;\n",
        "  int height;\n",
        "\n",
        "public:\n",
        "  Rectangle(int width, int height) : Shape(4), width(width), height(height) {}\n",
        "\n",
        "  int get_area() const override {\n",
        "    return width * height;\n",
        "  }\n",
        "};\n",
        "\n",
        "class Triangle : public Shape {\n",
        "private:\n",
        "  int base;\n",
        "  int height;\n",
        "\n",
        "public:\n",
        "  Triangle(int base, int height) : Shape(3), base(base), height(height) {}\n",
        "\n",
        "  int get_area() const override {\n",
        "    return base * height / 2;\n",
        "  }\n",
        "};\n",
        "\n",
        "int main() {\n",
        "  Shape *shapes[] = { new Rectangle(10, 20), new Triangle(10, 20) };\n",
        "  for (const auto &shape : shapes) {\n",
        "    std::cout << \"area: \" << shape->get_area() << \", sides: \" << shape->get_sides() << std::endl;\n",
        "  }\n",
        "  return 0;\n",
        "}\n"
      ],
      "metadata": {
        "colab": {
          "base_uri": "https://localhost:8080/"
        },
        "id": "Od1q9jBoQqs6",
        "outputId": "5f3f3084-7e96-49c2-99c0-a8354a620b8c"
      },
      "execution_count": 10,
      "outputs": [
        {
          "output_type": "stream",
          "name": "stdout",
          "text": [
            "area: 200, sides: 4\n",
            "area: 100, sides: 3\n",
            "\n",
            "CPU times: user 7.63 ms, sys: 10.3 ms, total: 17.9 ms\n",
            "Wall time: 1.57 s\n"
          ]
        }
      ]
    },
    {
      "cell_type": "markdown",
      "source": [
        "In this implementation, the `Shape` class represents a geometric shape with a certain number of sides. The class has a protected attribute called `sides` that stores the number of sides, and two member functions: `get_area`, which returns the area of the shape, and `get_sides`, which returns the number of sides. The `get_area` function is marked as virtual, which means that it can be overridden by derived classes.\n",
        "\n",
        "The `Rectangle` and `Triangle` classes are derived from the `Shape` class, and they override the `get_area` function to provide their own implementation based on the width and height of the rectangle or the base and height of the triangle. They also inherit the `get_sides` function from the `Shape` class, which allows them to return the correct number of sides for their respective shapes."
      ],
      "metadata": {
        "id": "CSko6o3KXagN"
      }
    },
    {
      "cell_type": "markdown",
      "source": [
        "## polymorphism"
      ],
      "metadata": {
        "id": "zWnJtfo7YnWn"
      }
    },
    {
      "cell_type": "markdown",
      "source": [
        "**what is polymorphism?**\n",
        "\n",
        "\n",
        "In C++, you can use inheritance and other techniques to achieve polymorphism, which allows you to write code that can be used with multiple types of objects in a flexible way. This can be useful in quantitative finance when you need to create classes that represent different financial instruments or models, and you want to be able to use them in a consistent way."
      ],
      "metadata": {
        "id": "-ZWQMsu0ZB-y"
      }
    },
    {
      "cell_type": "markdown",
      "source": [
        "implement polymorphism in C++:"
      ],
      "metadata": {
        "id": "IVPW-Xb7z6Vi"
      }
    },
    {
      "cell_type": "code",
      "source": [
        "%%cu\n",
        "#include <iostream>\n",
        "\n",
        "// Base class\n",
        "class Shape {\n",
        " public:\n",
        "  virtual double area() const = 0;\n",
        "  virtual double perimeter() const = 0;\n",
        "};\n",
        "\n",
        "// Derived class\n",
        "class Rectangle : public Shape {\n",
        " private:\n",
        "  double width_;\n",
        "  double height_;\n",
        " public:\n",
        "  Rectangle(double width, double height) : width_(width), height_(height) {}\n",
        "  double area() const override { return width_ * height_; }\n",
        "  double perimeter() const override { return 2 * (width_ + height_); }\n",
        "};\n",
        "\n",
        "// Another derived class\n",
        "class Circle : public Shape {\n",
        " private:\n",
        "  double radius_;\n",
        " public:\n",
        "  Circle(double radius) : radius_(radius) {}\n",
        "  double area() const override { return 3.14 * radius_ * radius_; }\n",
        "  double perimeter() const override { return 2 * 3.14 * radius_; }\n",
        "};\n",
        "\n",
        "int main() {\n",
        "  Shape *s1 = new Rectangle(10, 5);\n",
        "  Shape *s2 = new Circle(2);\n",
        "\n",
        "  std::cout << \"Rectangle area: \" << s1->area() << std::endl;\n",
        "  std::cout << \"Circle area: \" << s2->area() << std::endl;\n",
        "\n",
        "  delete s1;\n",
        "  delete s2;\n",
        "  return 0;\n",
        "}\n"
      ],
      "metadata": {
        "colab": {
          "base_uri": "https://localhost:8080/"
        },
        "id": "6WuRnf8tYtPt",
        "outputId": "b3b329d7-8db8-40b1-96d5-affe256ef633"
      },
      "execution_count": 11,
      "outputs": [
        {
          "output_type": "stream",
          "name": "stdout",
          "text": [
            "Rectangle area: 50\n",
            "Circle area: 12.56\n",
            "\n"
          ]
        }
      ]
    },
    {
      "cell_type": "markdown",
      "source": [
        "In this implementation, the `Shape` class is the base class and the `Rectangle` and `Circle` classes are derived classes. The `Shape` class has two pure virtual functions, `area` and `perimeter`, which are implemented in the derived classes.\n",
        "\n",
        "The `Rectangle` class has two private member variables, `width_` and `height_`, and the `Circle` class has one private member variable, `radius_`. Both derived classes override the `area` and `perimeter` functions to provide their own implementations.\n",
        "\n",
        "In the main function, we create a `Rectangle` object and a `Circle` object and store their addresses in pointers of type `Shape`. Since `Rectangle` and `Circle` are both derived from `Shape`, we can store their addresses in `Shape` pointers.\n",
        "\n",
        "We then call the `area` function on both objects using the `Shape` pointers. Since the `area` function is virtual in the base class, the correct implementation of the function (either the one in `Rectangle` or the one in `Circle`) is called at runtime depending on the type of the object. This is an example of polymorphism, where a single function call can behave differently depending on the type of the object it is called on.\n",
        "\n",
        "\n",
        "\n"
      ],
      "metadata": {
        "id": "rht6Y79sY9W7"
      }
    },
    {
      "cell_type": "markdown",
      "source": [
        "## operator overloading"
      ],
      "metadata": {
        "id": "UKSWDpGqfQ5m"
      }
    },
    {
      "cell_type": "markdown",
      "source": [
        "**what is operator overloading?**\n",
        "\n",
        "\n",
        "Operator overloading is a feature in C++ that allows you to redefine the meaning of operators such as `+, -, *, /, %, =, ==, !=, <, >, <=, >=` when used with user-defined data types such as classes and structures.\n",
        "\n",
        "When you overload an operator, you provide a new implementation for the operator that is specific to your class or structure. This means that when the overloaded operator is used with an object of your class or structure, it behaves differently than the original operator would.\n",
        "\n",
        "For example, you can overload the `+` operator to concatenate two strings, or to add two numbers together, or to perform any other operation that makes sense for your class or structure.\n",
        "\n",
        "Operator overloading in C++ is achieved by defining a function that has the same name as the operator, but with the keyword `operator` in front of it. The function takes one or more parameters, and it can be a member function of the class or a standalone function."
      ],
      "metadata": {
        "id": "IbW97_SJ0yYD"
      }
    },
    {
      "cell_type": "code",
      "source": [
        "%%cu\n",
        "#include <iostream>\n",
        "#include <cmath>\n",
        "\n",
        "class Price {\n",
        " private:\n",
        "  double value_;  // The value of the price.\n",
        "\n",
        " public:\n",
        "  // Constructor that initializes the value.\n",
        "  Price(double value) : value_(value) {}\n",
        "\n",
        "  // Getter function that returns the value.\n",
        "  double GetValue() const { return value_; }\n",
        "\n",
        "  // Overloaded + operator that performs a time-weighted average of two prices.\n",
        "  Price operator+(const Price& other) const {\n",
        "    return Price((value_ + other.value_) / 2);\n",
        "  }\n",
        "\n",
        "  // Overloaded * operator that multiplies a price by a quantity.\n",
        "  double operator*(double quantity) const {\n",
        "    return value_ * quantity;\n",
        "  }\n",
        "};\n",
        "\n",
        "int main() {\n",
        "  // Create two prices.\n",
        "  Price p1(100);\n",
        "  Price p2(200);\n",
        "\n",
        "  // Perform a time-weighted average of the prices.\n",
        "  Price p3 = p1 + p2;\n",
        "  std::cout << \"Average price: \" << p3.GetValue() << std::endl;\n",
        "\n",
        "  // Multiply a price by a quantity.\n",
        "  double trade_value = p3 * 50;\n",
        "  std::cout << \"Trade value: \" << trade_value << std::endl;\n",
        "\n",
        "  return 0;\n",
        "}\n"
      ],
      "metadata": {
        "id": "hmKq9ez-fkjW",
        "colab": {
          "base_uri": "https://localhost:8080/"
        },
        "outputId": "931e8dca-80c1-486a-c80a-69f468ac22d0"
      },
      "execution_count": 12,
      "outputs": [
        {
          "output_type": "stream",
          "name": "stdout",
          "text": [
            "Average price: 150\n",
            "Trade value: 7500\n",
            "\n"
          ]
        }
      ]
    },
    {
      "cell_type": "markdown",
      "source": [
        "\n",
        "This C++ code implement operator overloading by defining the `Price` class and overloading the `+` and `*` operators for this class.\n",
        "\n",
        "The `Price` class has a private data member called `value_` that represents the value of a price. It has a constructor that takes a `double` value and initializes the `value_` member. It also has a public getter function called `GetValue()` that returns the value of a `Price` object.\n",
        "\n",
        "The `Price` class then overloads the `+` operator using the `operator+` function. The `operator+` function takes a reference to another `Price` object and returns a new `Price` object that represents the time-weighted average of the two prices. This is achieved by adding the values of the two prices and dividing by 2, and then creating a new `Price` object with this value.\n",
        "\n",
        "The Price class also overloads the `*` operator using the `operator*` function. The `operator*` function takes a `double` quantity and returns the product of the value of the `Price` object and the quantity.\n",
        "\n",
        "In the `main` function, two `Price` objects are created, and their time-weighted average is calculated using the overloaded `+` operator. The resulting Price object is then printed using `GetValue()`.\n",
        "\n",
        "The `*` operator is then used to multiply the time-weighted average `Price` object by a quantity, and the resulting value is printed.\n",
        "\n",
        "By overloading the `+` and `*` operators for the `Price` class, the code allows for more intuitive and natural use of these operators with `Price` objects."
      ],
      "metadata": {
        "id": "qsSFFW0s5Fht"
      }
    },
    {
      "cell_type": "markdown",
      "source": [
        "## memory memagement"
      ],
      "metadata": {
        "id": "8Yz9U9AElNj-"
      }
    },
    {
      "cell_type": "markdown",
      "source": [
        "**what is memory leak?**\n",
        "\n",
        "\n",
        "example of memory leak:\n",
        ">look at the RAM bar when running the code"
      ],
      "metadata": {
        "id": "A4iv4OzaRuLG"
      }
    },
    {
      "cell_type": "code",
      "source": [
        "%%cu\n",
        "#include <iostream>\n",
        "#include <string>\n",
        "\n",
        "using namespace std;\n",
        "\n",
        "int main() {\n",
        "  while (true) {\n",
        "    // Allocate memory for a new string\n",
        "    string* s = new string(\"Hello, World!\");\n",
        "    // We forgot to delete the string, so the memory is never freed\n",
        "  }\n",
        "  return 0;\n",
        "}\n"
      ],
      "metadata": {
        "id": "ZoxoaW9plRRw",
        "colab": {
          "base_uri": "https://localhost:8080/"
        },
        "outputId": "14287571-3c8e-4ebe-ab5a-e880c5485cdd"
      },
      "execution_count": 13,
      "outputs": [
        {
          "output_type": "stream",
          "name": "stdout",
          "text": [
            "\n"
          ]
        }
      ]
    },
    {
      "cell_type": "markdown",
      "source": [
        "In this example, the program continually allocates memory for a new string, but it never frees the memory by calling delete. This results in a memory leak, as the program continually consumes more and more memory without ever releasing it."
      ],
      "metadata": {
        "id": "azVu3GbNSPBF"
      }
    },
    {
      "cell_type": "markdown",
      "source": [
        "To fix this memory leak, we would need to add a delete statement to free the memory when it is no longer needed:\n",
        "> it runs forever"
      ],
      "metadata": {
        "id": "A0cSYZqESQuu"
      }
    },
    {
      "cell_type": "code",
      "source": [
        "%%cu\n",
        "#include <iostream>\n",
        "#include <string>\n",
        "\n",
        "using namespace std;\n",
        "\n",
        "int main() {\n",
        "  while (true) {\n",
        "    // Allocate memory for a new string\n",
        "    string* s = new string(\"Hello, World!\");\n",
        "    // Do something with the string\n",
        "    cout << *s << endl;\n",
        "    // Free the memory when we're done with the string\n",
        "    delete s;\n",
        "  }\n",
        "  return 0;\n",
        "}\n"
      ],
      "metadata": {
        "id": "YSOrTjaBSSd0"
      },
      "execution_count": null,
      "outputs": []
    },
    {
      "cell_type": "markdown",
      "source": [
        "**what is segmentation fault?**\n",
        " \n",
        " example of segmentation fault:"
      ],
      "metadata": {
        "id": "X7ZL6HiFTNh-"
      }
    },
    {
      "cell_type": "markdown",
      "source": [
        "In this example, the program attempts to access the element at index 0 of an uninitialized pointer array. This results in a segmentation fault, as the program is trying to access memory that it is not allowed to access.\n",
        "\n"
      ],
      "metadata": {
        "id": "y1Cr4th4TcKE"
      }
    },
    {
      "cell_type": "code",
      "source": [
        "%%cu\n",
        "#include <iostream>\n",
        "\n",
        "int main() {\n",
        "  int* array = NULL;\n",
        "  // Attempt to access an element of the array\n",
        "  std::cout << array[0] << std::endl;\n",
        "  return 0;\n",
        "}\n"
      ],
      "metadata": {
        "colab": {
          "base_uri": "https://localhost:8080/"
        },
        "id": "eWEA5Or9TQxt",
        "outputId": "674db88a-0a4a-4764-8662-a77bbeae1ddf"
      },
      "execution_count": 15,
      "outputs": [
        {
          "output_type": "stream",
          "name": "stdout",
          "text": [
            "\n"
          ]
        }
      ]
    },
    {
      "cell_type": "markdown",
      "source": [
        "Another common cause of segmentation faults is dereferencing a null pointer:\n",
        "\n"
      ],
      "metadata": {
        "id": "G1cb2nElTdjk"
      }
    },
    {
      "cell_type": "code",
      "source": [
        "%%cu\n",
        "#include <iostream>\n",
        "\n",
        "int main() {\n",
        "  int* ptr = NULL;\n",
        "  // Attempt to dereference the null pointer\n",
        "  *ptr = 42;\n",
        "  return 0;\n",
        "}\n"
      ],
      "metadata": {
        "colab": {
          "base_uri": "https://localhost:8080/"
        },
        "id": "KKxWbCYhTYA6",
        "outputId": "10ac7a30-5e14-45da-ec68-165640744396"
      },
      "execution_count": 16,
      "outputs": [
        {
          "output_type": "stream",
          "name": "stdout",
          "text": [
            "\n"
          ]
        }
      ]
    },
    {
      "cell_type": "markdown",
      "source": [
        "In this example, the program attempts to dereference the null pointer ptr, which also results in a segmentation fault.\n",
        "\n",
        "To avoid segmentation faults, you should ensure that pointers are initialized to valid memory locations before dereferencing them and that you do not try to access memory that you are not allowed to access."
      ],
      "metadata": {
        "id": "kxICaswHTjjs"
      }
    },
    {
      "cell_type": "markdown",
      "source": [
        "implement memory management:"
      ],
      "metadata": {
        "id": "8dN4GrqqT1qB"
      }
    },
    {
      "cell_type": "code",
      "source": [
        "%%cu\n",
        "#include <iostream>\n",
        "\n",
        "int main() {\n",
        "  // Allocate memory for an array of 100 integers\n",
        "  int* data = new int[100];\n",
        "\n",
        "  // Initialize the array with some values\n",
        "  for (int i = 0; i < 100; i++) {\n",
        "    data[i] = i;\n",
        "  }\n",
        "\n",
        "  // Do some calculations with the data\n",
        "  double sum = 0;\n",
        "  for (int i = 0; i < 100; i++) {\n",
        "    sum += data[i];\n",
        "  }\n",
        "  std::cout << \"Sum: \" << sum << std::endl;\n",
        "\n",
        "  // Deallocate the memory\n",
        "  delete[] data;\n",
        "\n",
        "  return 0;\n",
        "}\n"
      ],
      "metadata": {
        "colab": {
          "base_uri": "https://localhost:8080/"
        },
        "id": "umubLL37T5rF",
        "outputId": "1a8c6628-eaeb-4e2a-cb15-1416b7d89985"
      },
      "execution_count": 17,
      "outputs": [
        {
          "output_type": "stream",
          "name": "stdout",
          "text": [
            "Sum: 4950\n",
            "\n"
          ]
        }
      ]
    },
    {
      "cell_type": "markdown",
      "source": [
        "In this implementation, we use the new operator to dynamically allocate memory for an array of 100 integers. We then initialize the array with some values and perform some calculations with the data. After we are done with the data, we use the `delete[]` operator to deallocate the memory that was previously allocated with new.\n",
        "\n",
        "Proper memory management is important in this implementation because we are responsible for allocating and deallocating the memory ourselves. If we fail to deallocate the memory after we are finished with it, we could potentially run into issues such as memory leaks or segmentation faults. By using new and delete appropriately, we can ensure that our application uses memory efficiently and runs smoothly."
      ],
      "metadata": {
        "id": "HzuJVNL3UGuU"
      }
    },
    {
      "cell_type": "markdown",
      "source": [
        "## namespaces"
      ],
      "metadata": {
        "id": "iYX2we3vlRrB"
      }
    },
    {
      "cell_type": "markdown",
      "source": [
        "**what is a namespace?**\n",
        "\n",
        "In C++, a namespace is a container that holds a set of identifiers (e.g. functions, variables, classes, etc.). Namespaces are used to organize and group related identifiers and to avoid naming conflicts between different identifiers that may have the same name.\n",
        "\n",
        "Namespaces are important in quantitative finance applications because they can help to avoid naming conflicts and improve the organization and readability of the code. In quantitative finance applications, it is common to use many different libraries and frameworks that may define their own identifiers. By using namespaces, it is possible to clearly differentiate between the identifiers defined by different libraries and frameworks, and to avoid any conflicts that may arise from having multiple identifiers with the same name."
      ],
      "metadata": {
        "id": "7O8wei0zVU-c"
      }
    },
    {
      "cell_type": "markdown",
      "source": [
        "implement namespaces in C++:"
      ],
      "metadata": {
        "id": "yxC5yXUr6knT"
      }
    },
    {
      "cell_type": "code",
      "source": [
        "%%cu\n",
        "#include <iostream>\n",
        "\n",
        "// Define a namespace \"math\"\n",
        "namespace math {\n",
        "  double pi = 3.14159;\n",
        "\n",
        "  double add(double a, double b) {\n",
        "    return a + b;\n",
        "  }\n",
        "}\n",
        "\n",
        "int main() {\n",
        "  // Use the identifiers from the \"math\" namespace\n",
        "  std::cout << \"pi = \" << math::pi << std::endl;\n",
        "  std::cout << \"2 + 3 = \" << math::add(2, 3) << std::endl;\n",
        "\n",
        "  return 0;\n",
        "}\n"
      ],
      "metadata": {
        "id": "V3DObBj9lT1k",
        "colab": {
          "base_uri": "https://localhost:8080/"
        },
        "outputId": "5619869d-76ff-4106-f908-3f03cf0e1730"
      },
      "execution_count": 18,
      "outputs": [
        {
          "output_type": "stream",
          "name": "stdout",
          "text": [
            "pi = 3.14159\n",
            "2 + 3 = 5\n",
            "\n"
          ]
        }
      ]
    },
    {
      "cell_type": "markdown",
      "source": [
        "In this example, we define a namespace \"math\" that contains the identifier `pi` and the function add. We can access these identifiers by using the namespace name as a prefix (e.g. `math::pi`). This allows us to clearly differentiate between these identifiers and any other identifiers that may have the same name.\n",
        "\n",
        "Overall, namespaces are an important tool in C++ for organizing and avoiding naming conflicts in quantitative finance applications, and they can help to improve the readability and maintainability of the code."
      ],
      "metadata": {
        "id": "MHdI70NsVY7A"
      }
    },
    {
      "cell_type": "markdown",
      "source": [
        "## exception handling"
      ],
      "metadata": {
        "id": "_3ZBYWkwlUgR"
      }
    },
    {
      "cell_type": "markdown",
      "source": [
        "**what is exception handling?**\n",
        "\n",
        "Exception handling is a mechanism in C++ (and other programming languages) that allows a program to handle runtime errors or exceptional conditions in a structured and predictable way. Exception handling is important to quantitative finance applications because it can help to improve the reliability and robustness of the software.\n",
        "\n",
        "In C++, exception handling is implemented using the try and catch statements. The try block encloses a block of code that may throw an exception, and the catch block handles the exception if it is thrown."
      ],
      "metadata": {
        "id": "HxSu2S_6WJ4a"
      }
    },
    {
      "cell_type": "markdown",
      "source": [
        "implement exception handling:"
      ],
      "metadata": {
        "id": "txNDqBEO61l4"
      }
    },
    {
      "cell_type": "code",
      "source": [
        "%%cu\n",
        "#include <iostream>\n",
        "#include <stdexcept>\n",
        "\n",
        "int main() {\n",
        "  try {\n",
        "    // Code that may throw an exception\n",
        "    int a = 5;\n",
        "    int b = 0;\n",
        "    if (b == 0) {\n",
        "      throw std::runtime_error(\"Division by zero\");\n",
        "    }\n",
        "    int c = a / b;\n",
        "    std::cout << \"c = \" << c << std::endl;\n",
        "  } catch (const std::runtime_error& e) {\n",
        "    // Exception handling code\n",
        "    std::cerr << \"Error: \" << e.what() << std::endl;\n",
        "  }\n",
        "\n",
        "  return 0;\n",
        "}\n"
      ],
      "metadata": {
        "id": "I20IPRnClW4Y",
        "colab": {
          "base_uri": "https://localhost:8080/"
        },
        "outputId": "87ff5bd2-42eb-4f4e-a1bb-2752898a1f84"
      },
      "execution_count": 19,
      "outputs": [
        {
          "output_type": "stream",
          "name": "stdout",
          "text": [
            "Error: Division by zero\n",
            "\n"
          ]
        }
      ]
    },
    {
      "cell_type": "markdown",
      "source": [
        "In this implementation, we use a `try` block to enclose a block of code that may throw a `std::runtime_error` exception if the division by zero is attempted. If the exception is thrown, it is caught by the `catch` block, which prints an error message to the standard error stream.\n",
        "\n",
        "Exception handling is important in quantitative finance applications because it allows the program to handle exceptional conditions in a controlled and predictable way, rather than crashing or producing undefined results. This can help to improve the reliability and robustness of the software, and to ensure that it continues to function correctly even in the presence of errors or exceptional conditions."
      ],
      "metadata": {
        "id": "My2Mi4W1WOBf"
      }
    },
    {
      "cell_type": "markdown",
      "source": [
        "# C++ and financial engineering"
      ],
      "metadata": {
        "id": "hZ-HSBooIia-"
      }
    },
    {
      "cell_type": "markdown",
      "source": [
        "## the binomial method "
      ],
      "metadata": {
        "id": "Aumb3wCXomf4"
      }
    },
    {
      "cell_type": "markdown",
      "source": [
        "use the binomial model to price an option:"
      ],
      "metadata": {
        "id": "v-fV5sAO7_-t"
      }
    },
    {
      "cell_type": "code",
      "source": [
        "%%cu\n",
        "#include <iostream>\n",
        "#include <vector>\n",
        "\n",
        "// Define a class to represent a node in the tree\n",
        "class Node {\n",
        "public:\n",
        "  // Constructor\n",
        "  Node(double price, double time, double interest) : price(price), time(time), interest(interest) {}\n",
        "\n",
        "  // Member variables to hold the price, time, and interest rate\n",
        "  double price;\n",
        "  double time;\n",
        "  double interest;\n",
        "\n",
        "  // Pointers to the node's children\n",
        "  std::vector<Node*> children;\n",
        "\n",
        "  // Option price at this node\n",
        "  double optionPrice;\n",
        "};\n",
        "\n",
        "// Build the tree using the binomial model\n",
        "void buildTree(Node* root, int numPeriods, double sigma, double u, double d) {\n",
        "  // Base case: if the root node is a leaf, return\n",
        "  if (root->time == numPeriods) {\n",
        "    return;\n",
        "  }\n",
        "\n",
        "  // Otherwise, create the children nodes\n",
        "  double priceU = root->price * u;\n",
        "  double priceD = root->price * d;\n",
        "  double time = root->time + 1;\n",
        "  double interest = root->interest;\n",
        "\n",
        "  root->children.push_back(new Node(priceU, time, interest));\n",
        "  root->children.push_back(new Node(priceD, time, interest));\n",
        "\n",
        "  // Recurse on the children nodes\n",
        "  buildTree(root->children[0], numPeriods, sigma, u, d);\n",
        "  buildTree(root->children[1], numPeriods, sigma, u, d);\n",
        "}\n",
        "\n",
        "// Calculate the option price using the backward induction step\n",
        "double priceOption(Node* root, double strike, double p) {\n",
        "  // Base case: if the root node is a leaf, return the option's payoff\n",
        "  if (root->time == 0) {\n",
        "    return root->price > strike ? root->price - strike : 0;\n",
        "  }\n",
        "\n",
        "  // Otherwise, calculate the option price at the children nodes\n",
        "  root->children[0]->optionPrice = priceOption(root->children[0], strike, p);\n",
        "  root->children[1]->optionPrice = priceOption(root->children[1], strike, p);\n",
        "\n",
        "  // Use the option prices at the children nodes to calculate the option price at the root node\n",
        "  double disc = 1 / (1 + root->interest);\n",
        "  root->optionPrice = (p * root->children[0]->optionPrice + (1 - p) * root->children[1]->optionPrice) * disc;\n",
        "\n",
        "  return root->optionPrice;\n",
        "}\n",
        "\n",
        "int main() {\n",
        "  // Build a tree for an asset with initial price 100, 5 time periods, and interest rate 0.1\n",
        "  Node* root = new Node(100, 0, 0.1);\n",
        "  buildTree(root, 5, 0.2, 1.1, 0.9);\n",
        "\n",
        "  // Calculate the price of a call option with strike price 95\n",
        "  double optionPrice = priceOption(root, 95, 0.5);\n",
        "  std::cout << \"Option price: \" << optionPrice << std::endl;\n",
        "\n",
        "  return 0;\n",
        "}\n"
      ],
      "metadata": {
        "colab": {
          "base_uri": "https://localhost:8080/"
        },
        "id": "Gd6Cwz8-v-1O",
        "outputId": "04a62f69-211c-4a1a-fc32-f9a1d9fd708d"
      },
      "execution_count": 20,
      "outputs": [
        {
          "output_type": "stream",
          "name": "stdout",
          "text": [
            "Option price: 5\n",
            "\n"
          ]
        }
      ]
    },
    {
      "cell_type": "markdown",
      "source": [
        "The `Node` class represents a node in the tree, and has member variables to hold the asset's price, time period, and risk-free interest rate at that point in time. It also has pointers to the node's children and a member variable `optionPrice` to hold the option's price at that node.\n",
        "\n",
        "The `buildTree` function builds the tree using the binomial model. It takes as input the root node, the number of time periods, and the volatility and up/down factors for the asset. It creates children nodes for the root node using the up and down factors, and then recursively builds the tree using these children as the root nodes.\n",
        "\n",
        "The `priceOption` function calculates the option price using the backward induction step. It takes as input the root node, the strike price of the option, and the probability of the asset's price going up. It first calculates the option prices at the children nodes by recursively calling itself on the children nodes. Then it uses the option prices at the children nodes to calculate the option price at the root node using the formula:\n",
        "\n",
        "```\n",
        "optionPrice = (p * optionPrice[up] + (1 - p) * optionPrice[down]) / (1 + interest)\n",
        "```\n",
        "\n",
        "where `p` is the probability of the asset's price going up, `interest` is the risk-free interest rate, and `optionPrice[up]` and `optionPrice[down]` are the option prices at the children nodes corresponding to the asset's price going up or down. The function returns the option price at the root node.\n",
        "\n",
        "Finally, in the main function, we build the tree using the `buildTree` function and then use the `priceOptio` function to calculate the option price. The option price is then printed to the console."
      ],
      "metadata": {
        "id": "pzgEiYYJwnoL"
      }
    },
    {
      "cell_type": "markdown",
      "source": [
        "## Black-Scholes model"
      ],
      "metadata": {
        "id": "bTDrxNa2CUiq"
      }
    },
    {
      "cell_type": "markdown",
      "source": [
        "use the Black-Scholes formula to calculate the price of a European call option:"
      ],
      "metadata": {
        "id": "BE48qvqurrEP"
      }
    },
    {
      "cell_type": "code",
      "source": [
        "%%cu\n",
        "#include <iostream>\n",
        "#include <cmath>\n",
        "#include <boost/math/distributions/normal.hpp>\n",
        "\n",
        "\n",
        "// Black-Scholes formula for pricing European call options\n",
        "double blackScholes(double S, double K, double r, double sigma, double T) {\n",
        "  double d1 = (log(S / K) + (r + sigma * sigma / 2) * T) / (sigma * sqrt(T));\n",
        "  double d2 = d1 - sigma * sqrt(T);\n",
        "  boost::math::normal_distribution<double> normal;\n",
        "  return S * boost::math::cdf(normal, d1) - K * exp(-r * T) * boost::math::cdf(normal, d2);\n",
        "}\n",
        "\n",
        "int main() {\n",
        "  double S = 100;   // underlying asset price\n",
        "  double K = 105;   // strike price\n",
        "  double r = 0.05;  // risk-free interest rate\n",
        "  double sigma = 0.2; // volatility\n",
        "  double T = 1;     // time to expiration (in years)\n",
        "\n",
        "  double callPrice = blackScholes(S, K, r, sigma, T);\n",
        "  std::cout << \"Call price: \" << callPrice << std::endl;\n",
        "\n",
        "  return 0;\n",
        "}\n"
      ],
      "metadata": {
        "colab": {
          "base_uri": "https://localhost:8080/"
        },
        "id": "6I8wObcnb2L6",
        "outputId": "9cdc4efb-eef9-41da-ba0d-c22fdd7824c9"
      },
      "execution_count": 21,
      "outputs": [
        {
          "output_type": "stream",
          "name": "stdout",
          "text": [
            "Call price: 8.02135\n",
            "\n"
          ]
        }
      ]
    },
    {
      "cell_type": "markdown",
      "source": [
        "In this implementation, the `blackScholes` function takes in 5 arguments: the underlying asset price `S`, the strike price `K`, the risk-free interest rate `r`, the volatility `sigma`, and the time to expiration `T` (in years). The function calculates two values `d1` and `d2` using these inputs and then uses the cumulative distribution function of the standard normal distribution to calculate the call option price. The main function sets values for these inputs and calls the `blackScholes` function to calculate and output the call option price."
      ],
      "metadata": {
        "id": "QhONmgEWsSpA"
      }
    },
    {
      "cell_type": "markdown",
      "source": [
        "# end of document"
      ],
      "metadata": {
        "id": "a1sVHYnOIe75"
      }
    },
    {
      "cell_type": "markdown",
      "source": [
        "# prepare C++ for colab"
      ],
      "metadata": {
        "id": "xDHHwOuMfKg7"
      }
    },
    {
      "cell_type": "code",
      "source": [
        "!pip install git+https://github.com/andreinechaev/nvcc4jupyter.git"
      ],
      "metadata": {
        "id": "Ym3DxvGN71uz"
      },
      "execution_count": null,
      "outputs": []
    },
    {
      "cell_type": "code",
      "source": [
        "%load_ext nvcc_plugin"
      ],
      "metadata": {
        "id": "NSIBrrpz767u"
      },
      "execution_count": null,
      "outputs": []
    },
    {
      "cell_type": "code",
      "source": [
        "%%cu\n",
        "#include <iostream>\n",
        "    int\n",
        "    main()\n",
        "{\n",
        "    std::cout << \"Hello, world!\\n\";\n",
        "    return 0;\n",
        "}"
      ],
      "metadata": {
        "colab": {
          "base_uri": "https://localhost:8080/"
        },
        "id": "CQdJGkYV8AAc",
        "outputId": "2e7e94f0-256a-4cd1-9219-85a54fc6d78f"
      },
      "execution_count": 5,
      "outputs": [
        {
          "output_type": "stream",
          "name": "stdout",
          "text": [
            "Hello, world!\n",
            "\n"
          ]
        }
      ]
    },
    {
      "cell_type": "code",
      "source": [
        "%%cu\n",
        "#include <iostream>\n",
        "#include <chrono>\n",
        "#include <cmath>\n",
        "\n",
        "int main() {\n",
        "  long long n = std::pow(10, 5);  // Set the value of n\n",
        "  long long sum = 0;  // Initialize the sum to 0\n",
        "  auto start = std::chrono::high_resolution_clock::now();  // Start the timer\n",
        "  for (int i = 1; i <= n; i++) {\n",
        "    sum += i;  // Add i to the sum\n",
        "  }\n",
        "  auto end = std::chrono::high_resolution_clock::now();  // Stop the timer\n",
        "  std::chrono::duration<double> elapsed = end - start;  // Calculate the elapsed time\n",
        "  std::cout << \"Sum of first \" << n << \" natural numbers: \" << sum << std::endl;\n",
        "  std::cout << \"Elapsed time: \" << elapsed.count() << \" seconds\" << std::endl;\n",
        "  return 0;\n",
        "}\n"
      ],
      "metadata": {
        "colab": {
          "base_uri": "https://localhost:8080/"
        },
        "id": "74nQStJt9O77",
        "outputId": "b80e9d5c-1dbe-4014-8775-21c19675c939"
      },
      "execution_count": 6,
      "outputs": [
        {
          "output_type": "stream",
          "name": "stdout",
          "text": [
            "Sum of first 100000 natural numbers: 5000050000\n",
            "Elapsed time: 0.000278803 seconds\n",
            "\n"
          ]
        }
      ]
    },
    {
      "cell_type": "code",
      "source": [
        "!apt-get update\n",
        "!apt-get install libgraphviz-dev"
      ],
      "metadata": {
        "id": "G88YeGyFysom"
      },
      "execution_count": null,
      "outputs": []
    }
  ]
}