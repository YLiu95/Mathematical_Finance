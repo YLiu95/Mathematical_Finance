{
  "nbformat": 4,
  "nbformat_minor": 0,
  "metadata": {
    "colab": {
      "provenance": [],
      "toc_visible": true,
      "authorship_tag": "ABX9TyMeb6xKy8WLeLlV2cVC5K6W",
      "include_colab_link": true
    },
    "kernelspec": {
      "name": "python3",
      "display_name": "Python 3"
    },
    "language_info": {
      "name": "python"
    }
  },
  "cells": [
    {
      "cell_type": "markdown",
      "metadata": {
        "id": "view-in-github",
        "colab_type": "text"
      },
      "source": [
        "<a href=\"https://colab.research.google.com/github/YLiu95/Mathematical_Finance/blob/main/Apply_Stochastic_Processes_in_Finance.ipynb\" target=\"_parent\"><img src=\"https://colab.research.google.com/assets/colab-badge.svg\" alt=\"Open In Colab\"/></a>"
      ]
    },
    {
      "cell_type": "markdown",
      "source": [
        "# Apply Stochastic Processes in Finance"
      ],
      "metadata": {
        "id": "A6Q3lkSdb8iL"
      }
    },
    {
      "cell_type": "markdown",
      "source": [
        ">[Apply Stochastic Processes in Finance](#updateTitle=true&folderId=1XSd5UBYT2zKmcLISn-xBRYa9upYgTaXM&scrollTo=A6Q3lkSdb8iL)\n",
        "\n",
        ">>[Markov chain](#updateTitle=true&folderId=1XSd5UBYT2zKmcLISn-xBRYa9upYgTaXM&scrollTo=qJ5lT6SvC-gQ)\n",
        "\n",
        ">>>[Task 1](#updateTitle=true&folderId=1XSd5UBYT2zKmcLISn-xBRYa9upYgTaXM&scrollTo=E_qalanYcoAB)\n",
        "\n",
        ">>>[Task 2 & 3](#updateTitle=true&folderId=1XSd5UBYT2zKmcLISn-xBRYa9upYgTaXM&scrollTo=CZVozFN7bLme)\n",
        "\n",
        ">>[Martingale](#updateTitle=true&folderId=1XSd5UBYT2zKmcLISn-xBRYa9upYgTaXM&scrollTo=FxV6Q2HAFycg)\n",
        "\n",
        ">>[Optional stopping theorem](#updateTitle=true&folderId=1XSd5UBYT2zKmcLISn-xBRYa9upYgTaXM&scrollTo=kre0fEszI8_Z)\n",
        "\n",
        ">>[Brownian motion](#updateTitle=true&folderId=1XSd5UBYT2zKmcLISn-xBRYa9upYgTaXM&scrollTo=FFM0kwM7OMNk)\n",
        "\n",
        ">[End of the document](#updateTitle=true&folderId=1XSd5UBYT2zKmcLISn-xBRYa9upYgTaXM&scrollTo=HXXhGJ4fb93d)\n",
        "\n"
      ],
      "metadata": {
        "colab_type": "toc",
        "id": "ceO8jRk1oX5C"
      }
    },
    {
      "cell_type": "markdown",
      "source": [
        "## Markov chain"
      ],
      "metadata": {
        "id": "qJ5lT6SvC-gQ"
      }
    },
    {
      "cell_type": "markdown",
      "source": [
        "### Task 1\n",
        "\n",
        "You are given a dataset containing the daily crude oil prices for the past year. The prices are categorized as \"low\", \"medium\", and \"high\". Use Python code to simulate the evolution of crude oil prices over the next 10 days, assuming that the initial state distribution is as follows: 50% chance of \"low\" price, 30% chance of \"medium\" price, and 20% chance of \"high\" price. Also, assume that the transition probabilities between states are as follows:\n",
        "\n",
        "If the current price is \"low\", there is a 70% chance that the price will remain \"low\", a 20% chance that it will increase to \"medium\", and a 10% chance that it will increase to \"high\".\n",
        "If the current price is \"medium\", there is a 40% chance that the price will decrease to \"low\", a 40% chance that it will remain \"medium\", and a 20% chance that it will increase to \"high\".\n",
        "If the current price is \"high\", there is a 20% chance that the price will decrease to \"low\", a 30% chance that it will decrease to \"medium\", and a 50% chance that it will remain \"high\".\n",
        "After simulating the evolution of crude oil prices over the next 10 days, print the list of simulated prices."
      ],
      "metadata": {
        "id": "E_qalanYcoAB"
      }
    },
    {
      "cell_type": "code",
      "source": [
        "import numpy as np\n",
        "\n",
        "# Define the possible states for the crude oil price\n",
        "states = [\"low\", \"medium\", \"high\"]\n",
        "\n",
        "# Define the transition probabilities between states\n",
        "transition_probs = {\n",
        "    \"low\": {\"low\": 0.7, \"medium\": 0.2, \"high\": 0.1},\n",
        "    \"medium\": {\"low\": 0.4, \"medium\": 0.4, \"high\": 0.2},\n",
        "    \"high\": {\"low\": 0.2, \"medium\": 0.3, \"high\": 0.5}\n",
        "}\n",
        "\n",
        "# Define the initial state distribution\n",
        "initial_probs = {\"low\": 0.5, \"medium\": 0.3, \"high\": 0.2}\n",
        "\n",
        "# Define the number of time steps to simulate\n",
        "num_steps = 10\n",
        "\n",
        "# Initialize the current state\n",
        "current_state = np.random.choice(states, p=list(initial_probs.values()))\n",
        "\n",
        "# Initialize a list to store the simulated prices\n",
        "prices = []\n",
        "\n",
        "# Simulate the evolution of the crude oil price over time\n",
        "for _ in range(num_steps):\n",
        "    # Append the current price to the list of simulated prices\n",
        "    prices.append(current_state)\n",
        "    \n",
        "    # Sample the next state from the transition probabilities\n",
        "    current_state = np.random.choice(states, p=list(transition_probs[current_state].values()))\n",
        "\n",
        "\n",
        "# Print the simulated prices\n",
        "print(prices)\n"
      ],
      "metadata": {
        "colab": {
          "base_uri": "https://localhost:8080/"
        },
        "id": "4lyMhhPPDAoZ",
        "outputId": "a1a917bb-c865-4348-b7a5-609582dc4fcd"
      },
      "execution_count": null,
      "outputs": [
        {
          "output_type": "stream",
          "name": "stdout",
          "text": [
            "['low', 'low', 'low', 'low', 'medium', 'medium', 'medium', 'medium', 'medium', 'low']\n"
          ]
        }
      ]
    },
    {
      "cell_type": "markdown",
      "source": [
        "### Task 2 & 3\n",
        "\n",
        "Construct a finite Markov chain with non-unique stationary distributions and use the distribution to model stock price change."
      ],
      "metadata": {
        "id": "CZVozFN7bLme"
      }
    },
    {
      "cell_type": "markdown",
      "source": [
        "Suppose there are three states. The transition matrix of the Markov chain representing the weather patterns is given as follows:\n",
        "```\n",
        "[[0.5, 0.5, 0],\n",
        " [0, 0.5, 0.5],\n",
        " [0.5, 0, 0.5]]\n",
        "```\n",
        "Write a Python program using NumPy and Matplotlib to:\n",
        "\n",
        "1. Define the transition matrix and the initial distribution of the Markov chain as NumPy arrays.\n",
        "2. Compute the stationary distribution of the Markov chain after 1000 steps using matrix power.\n",
        "3. Plot the stationary distribution as a bar chart, where the x-axis represents the states and the y-axis represents the probability of each state.\n",
        "\n",
        "Submit the Python code along with the stationary distribution plot."
      ],
      "metadata": {
        "id": "-i4B8VHTiS6U"
      }
    },
    {
      "cell_type": "code",
      "source": [
        "import numpy as np\n",
        "import matplotlib.pyplot as plt\n",
        "\n",
        "# Define the number of states in the Markov chain\n",
        "num_states = 3\n",
        "\n",
        "# Define the transition matrix of the Markov chain\n",
        "transition_matrix = np.array([[0.5, 0.5, 0],\n",
        "                              [0, 0.5, 0.5],\n",
        "                              [0.5, 0, 0.5]])\n",
        "\n",
        "# Define the initial distribution of the Markov chain\n",
        "initial_distribution = np.array([1, 0, 0])\n",
        "\n",
        "# Compute the stationary distribution of the Markov chain\n",
        "stationary_distribution = np.linalg.matrix_power(transition_matrix, 1000).dot(initial_distribution)\n",
        "\n",
        "# Print the stationary distribution\n",
        "print(f\"Stationary distribution: {stationary_distribution}\")\n",
        "\n",
        "# Plot the stationary distribution as a bar chart\n",
        "plt.bar(range(num_states), stationary_distribution)\n",
        "plt.show()\n"
      ],
      "metadata": {
        "colab": {
          "base_uri": "https://localhost:8080/",
          "height": 286
        },
        "id": "VSykYZXHbMHS",
        "outputId": "115b029a-9fab-4262-d133-d2b24126648a"
      },
      "execution_count": null,
      "outputs": [
        {
          "output_type": "stream",
          "name": "stdout",
          "text": [
            "Stationary distribution: [0.33333333 0.33333333 0.33333333]\n"
          ]
        },
        {
          "output_type": "display_data",
          "data": {
            "text/plain": [
              "<Figure size 432x288 with 1 Axes>"
            ],
            "image/png": "[encoded data removed]"
          },
          "metadata": {
            "needs_background": "light"
          }
        }
      ]
    },
    {
      "cell_type": "markdown",
      "source": [
        "Suppose you are a financial analyst who wants to study the behavior of a certain stock over time. You have historical data for the stock prices and want to simulate the evolution of the stock price using a Markov chain model. Write a Python program to simulate the evolution of the stock price over 1000 time steps with an initial price of 100. The stock price can increase by 0.01, stay the same, or decrease by 0.01 with equal probability. Use a stationary distribution of [1/3, 1/3, 1/3] for the Markov chain. Plot the simulated stock price and the average price over time. Also, calculate the expected average price over the time period and print it to the console."
      ],
      "metadata": {
        "id": "bh_tniQdjE9-"
      }
    },
    {
      "cell_type": "code",
      "source": [
        "import numpy as np\n",
        "import matplotlib.pyplot as plt\n",
        "\n",
        "# Python program to get average of a list\n",
        "def Average(lst):\n",
        "    return sum(lst) / len(lst)\n",
        "\n",
        "# Define the number of time steps to simulate\n",
        "num_steps = 1000\n",
        "\n",
        "# Define the initial price of the stock\n",
        "initial_price = 100\n",
        "\n",
        "# Define the stationary distribution of the Markov chain\n",
        "stationary_distribution = np.array([1/3, 1/3, 1/3])\n",
        "\n",
        "# Define price increments\n",
        "price_increments = [0.01, 0, -0.01]\n",
        "\n",
        "# Initialize the stock price and the average price\n",
        "price = initial_price\n",
        "expected_average_price = 0\n",
        "\n",
        "# Initialize a list to store the stock price at each time step\n",
        "price_history = []\n",
        "average_price = []\n",
        "\n",
        "# Simulate the evolution of the stock price over time\n",
        "for t in range(num_steps):\n",
        "    # Choose a state according to the stationary distribution\n",
        "    state = np.random.choice(range(3), p=stationary_distribution)\n",
        "    \n",
        "    # Increment the average price by the current price\n",
        "    expected_average_price += price\n",
        "    \n",
        "    # Update the stock price according to the chosen state and corresponding price increment\n",
        "    price += price_increments[state]\n",
        "    \n",
        "    # Append the updated price to the history list\n",
        "    price_history.append(price)\n",
        "    average_price.append(Average(price_history))\n",
        "\n",
        "# Divide the average price by the number of time steps to get the average price over the time period\n",
        "expected_average_price /= num_steps\n",
        "\n",
        "# Plot the stock price and average price over time\n",
        "plt.plot(price_history, label=\"Stock price\")\n",
        "plt.plot(average_price, label=\"Average price\")\n",
        "plt.plot([expected_average_price] * num_steps, label=\"Expected Average price\")\n",
        "plt.legend()\n",
        "plt.show()\n",
        "\n",
        "# Print the average price\n",
        "print(f\"Expected Average price: {expected_average_price}\")\n"
      ],
      "metadata": {
        "colab": {
          "base_uri": "https://localhost:8080/",
          "height": 282
        },
        "id": "KLnAyVx9cS7z",
        "outputId": "404bc5a7-cbb2-4faa-bfe9-d02e464e5f18"
      },
      "execution_count": null,
      "outputs": [
        {
          "output_type": "display_data",
          "data": {
            "text/plain": [
              "<Figure size 432x288 with 1 Axes>"
            ],
            "image/png": "[encoded data removed]"
          },
          "metadata": {
            "needs_background": "light"
          }
        },
        {
          "output_type": "stream",
          "name": "stdout",
          "text": [
            "Expected Average price: 100.12853000000004\n"
          ]
        }
      ]
    },
    {
      "cell_type": "markdown",
      "source": [
        "## Martingale"
      ],
      "metadata": {
        "id": "FxV6Q2HAFycg"
      }
    },
    {
      "cell_type": "markdown",
      "source": [
        "Suppose you have an initial investment of 100 dollars and want to make a profit of 50 dollars by playing a game. The game has two possible outcomes: you win with probability 0.1, or you lose with probability 0.9. If you win, your investment increases by the amount you bet, and if you lose, your investment decreases by the amount you bet. You start by betting your initial investment amount, and if you lose, you double your bet and continue playing until you either reach your target profit or run out of money. Use Python code to simulate this game and plot the investment and bet size history over the course of the game."
      ],
      "metadata": {
        "id": "HZUOQiqWgo1P"
      }
    },
    {
      "cell_type": "code",
      "source": [
        "import numpy as np\n",
        "import matplotlib.pyplot as plt\n",
        "\n",
        "# Define the initial investment and the target profit\n",
        "initial_investment = 100\n",
        "target_profit = 50\n",
        "\n",
        "# Define the probability of winning and losing\n",
        "win_prob = 0.1\n",
        "loss_prob = 1 - win_prob\n",
        "\n",
        "# Initialize the current investment and the bet size\n",
        "current_investment = initial_investment\n",
        "bet_size = initial_investment\n",
        "\n",
        "# Initialize lists to store the investment and bet size at each iteration\n",
        "investment_history = []\n",
        "bet_history = []\n",
        "\n",
        "# Keep betting until the target profit is reached or exceeded\n",
        "while current_investment < initial_investment + target_profit:\n",
        "    # Generate a random outcome (win or loss)\n",
        "    outcome = np.random.choice([\"win\", \"loss\"], p=[win_prob, loss_prob])\n",
        "    \n",
        "    # If the outcome is a win, add the bet size to the current investment\n",
        "    if outcome == \"win\":\n",
        "        current_investment += bet_size\n",
        "    # If the outcome is a loss, double the bet size and subtract it from the current investment\n",
        "    else:\n",
        "        bet_size *= 2\n",
        "        current_investment -= bet_size\n",
        "        \n",
        "    # Append the current investment and bet size to the history lists\n",
        "    investment_history.append(current_investment)\n",
        "    bet_history.append(bet_size)\n",
        "\n",
        "# Print the final investment\n",
        "print(f\"Final investment: {current_investment}\")\n",
        "\n",
        "# Plot the investment and bet size history\n",
        "plt.plot(investment_history, label=\"Investment\")\n",
        "plt.plot(bet_history, label=\"Bet size\")\n",
        "plt.legend()\n",
        "plt.show()\n"
      ],
      "metadata": {
        "colab": {
          "base_uri": "https://localhost:8080/",
          "height": 293
        },
        "id": "C-odi_8-F02o",
        "outputId": "245e7c15-8955-496a-c7d7-e2f1b856abcd"
      },
      "execution_count": null,
      "outputs": [
        {
          "output_type": "stream",
          "name": "stdout",
          "text": [
            "Final investment: 9915080667447401600830675900\n"
          ]
        },
        {
          "output_type": "display_data",
          "data": {
            "text/plain": [
              "<Figure size 432x288 with 1 Axes>"
            ],
            "image/png": "[encoded data removed]"
          },
          "metadata": {
            "needs_background": "light"
          }
        }
      ]
    },
    {
      "cell_type": "markdown",
      "source": [
        "## Optional stopping theorem"
      ],
      "metadata": {
        "id": "kre0fEszI8_Z"
      }
    },
    {
      "cell_type": "markdown",
      "source": [
        "Suppose you are simulating the daily gold prices over a period of 1000 days using the given Python code. The current gold price is 100, and the probability of the gold price increasing at each time step is 0.5.\n",
        "\n",
        "1. What is the expected average gold price over the 1000 days simulation period?\n",
        "2. Plot the evolution of the gold price and the average gold price over the 1000 days simulation period. Also, plot the expected average gold price as a horizontal line on the same plot.\n",
        "\n",
        "Write Python code to solve the above questions."
      ],
      "metadata": {
        "id": "Hv6dRKXojkqK"
      }
    },
    {
      "cell_type": "code",
      "source": [
        "import numpy as np\n",
        "import matplotlib.pyplot as plt\n",
        "\n",
        "# Python program to get average of a list\n",
        "def Average(lst):\n",
        "    return sum(lst) / len(lst)\n",
        "\n",
        "# Define the number of time steps to simulate\n",
        "num_steps = 1000\n",
        "\n",
        "# Define the probability of the gold price increasing at each time step\n",
        "p = 0.5\n",
        "\n",
        "# Initialize the gold price and the expected price\n",
        "gold_price = 100\n",
        "expected_price = 0\n",
        "\n",
        "# Initialize a list to store the gold price at each time step\n",
        "gold_price_history = []\n",
        "average_price = []\n",
        "\n",
        "# Simulate the evolution of the gold price over time\n",
        "for t in range(num_steps):\n",
        "    # Append the current gold price to the history list\n",
        "    gold_price_history.append(gold_price)\n",
        "    average_price.append(Average(gold_price_history))\n",
        "    \n",
        "    # Increment the expected price by the current gold price\n",
        "    expected_price += gold_price\n",
        "    \n",
        "    # Update the gold price according to the probability of increasing\n",
        "    gold_price += np.random.choice([1, -1], p=[p, 1-p])\n",
        "\n",
        "# Divide the expected price by the number of time steps to get the average expected price\n",
        "average_expected_price = expected_price / num_steps\n",
        "\n",
        "# Print the average expected price\n",
        "print(f\"Average expected price: {average_expected_price}\")\n",
        "\n",
        "# Plot the gold price and average gold price over time\n",
        "plt.plot(gold_price_history, label=\"Gold price\")\n",
        "plt.plot(average_price, label=\"Average gold price\")\n",
        "plt.plot([average_expected_price] * num_steps, label=\"Expected Average gold price\")\n",
        "plt.legend()\n",
        "plt.show()\n"
      ],
      "metadata": {
        "colab": {
          "base_uri": "https://localhost:8080/",
          "height": 282
        },
        "id": "G-wyHFeXJBhn",
        "outputId": "1d9daced-f2dd-4e72-c0c8-97e71a0b8316"
      },
      "execution_count": null,
      "outputs": [
        {
          "output_type": "stream",
          "name": "stdout",
          "text": [
            "Average expected price: 122.36\n"
          ]
        },
        {
          "output_type": "display_data",
          "data": {
            "text/plain": [
              "<Figure size 432x288 with 1 Axes>"
            ],
            "image/png": "[encoded data removed]"
          },
          "metadata": {
            "needs_background": "light"
          }
        }
      ]
    },
    {
      "cell_type": "markdown",
      "source": [
        "## Brownian motion"
      ],
      "metadata": {
        "id": "FFM0kwM7OMNk"
      }
    },
    {
      "cell_type": "markdown",
      "source": [
        "Suppose a stock's initial price is $100, and the stock follows a Brownian motion with a drift of 0.01 and a standard deviation of 0.1. Simulate the stock price over 1000 time steps using Python code. Plot the stock price over time, and indicate the maximum and minimum values of the stock price as horizontal lines on the plot."
      ],
      "metadata": {
        "id": "w33GuhNykshX"
      }
    },
    {
      "cell_type": "code",
      "source": [
        "import numpy as np\n",
        "import matplotlib.pyplot as plt\n",
        "\n",
        "# Define the number of time steps to simulate\n",
        "num_steps = 1000\n",
        "\n",
        "# Define the initial price of the stock\n",
        "initial_price = 100\n",
        "\n",
        "# Define the drift and standard deviation of the Brownian motion\n",
        "drift = 0.01\n",
        "stddev = 0.1\n",
        "\n",
        "# Simulate the Brownian motion of the stock price over time\n",
        "price_history = [initial_price]\n",
        "for t in range(num_steps):\n",
        "    # Generate a random increment from a Gaussian distribution with the defined drift and standard deviation\n",
        "    increment = np.random.normal(drift, stddev)\n",
        "    \n",
        "    # Update the stock price according to the increment\n",
        "    price = price_history[-1] + increment\n",
        "    \n",
        "    # Append the updated price to the history list\n",
        "    price_history.append(price)\n",
        "\n",
        "# Calculate the maximum and minimum values of the stock price over the day\n",
        "max_price = max(price_history)\n",
        "min_price = min(price_history)\n",
        "\n",
        "# Plot the stock price over time\n",
        "plt.plot(price_history, label=\"Stock price\")\n",
        "\n",
        "# Plot the maximum and minimum values as horizontal lines\n",
        "plt.hlines(max_price, 0, num_steps, linestyle=\":\")\n",
        "plt.hlines(min_price, 0, num_steps, linestyle=\":\")\n",
        "\n",
        "plt.legend()\n",
        "plt.show()\n",
        "\n",
        "# Print the maximum and minimum values\n",
        "print(f\"Maximum value: {max_price}\")\n",
        "print(f\"Minimum value: {min_price}\")\n"
      ],
      "metadata": {
        "colab": {
          "base_uri": "https://localhost:8080/",
          "height": 301
        },
        "id": "9rzt2GzgOQe1",
        "outputId": "fb880ae1-4c86-4da8-867e-eab72d5ed188"
      },
      "execution_count": null,
      "outputs": [
        {
          "output_type": "display_data",
          "data": {
            "text/plain": [
              "<Figure size 432x288 with 1 Axes>"
            ],
            "image/png": "[encoded data removed]"
          },
          "metadata": {
            "needs_background": "light"
          }
        },
        {
          "output_type": "stream",
          "name": "stdout",
          "text": [
            "Maximum value: 106.77813712513642\n",
            "Minimum value: 99.89873676480981\n"
          ]
        }
      ]
    },
    {
      "cell_type": "markdown",
      "source": [
        "# End of the document"
      ],
      "metadata": {
        "id": "HXXhGJ4fb93d"
      }
    }
  ]
}